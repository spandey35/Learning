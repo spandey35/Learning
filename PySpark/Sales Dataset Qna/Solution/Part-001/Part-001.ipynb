{
 "cells": [
  {
   "cell_type": "code",
   "execution_count": 0,
   "metadata": {
    "application/vnd.databricks.v1+cell": {
     "cellMetadata": {
      "byteLimit": 2048000,
      "rowLimit": 10000
     },
     "inputWidgets": {},
     "nuid": "61576d69-a3e2-4069-96d4-d5984ef93b84",
     "showTitle": false,
     "tableResultSettingsMap": {},
     "title": ""
    }
   },
   "outputs": [],
   "source": [
    "%run /Workspace/Users/surajss.3110@gmail.com/Learning/PySpark/MasterNoteBooks/Sales_MasterNoteBook"
   ]
  },
  {
   "cell_type": "code",
   "execution_count": 0,
   "metadata": {
    "application/vnd.databricks.v1+cell": {
     "cellMetadata": {
      "byteLimit": 2048000,
      "rowLimit": 10000
     },
     "inputWidgets": {},
     "nuid": "b002e999-868a-4de6-b1c4-d8987c1d94a5",
     "showTitle": false,
     "tableResultSettingsMap": {},
     "title": ""
    }
   },
   "outputs": [],
   "source": [
    "prod = load_product()\n",
    "cust = load_customer()\n",
    "trans = load_trans()"
   ]
  },
  {
   "cell_type": "code",
   "execution_count": 0,
   "metadata": {
    "application/vnd.databricks.v1+cell": {
     "cellMetadata": {
      "byteLimit": 2048000,
      "rowLimit": 10000
     },
     "inputWidgets": {},
     "nuid": "9825d869-63dd-4392-a995-cc080e861b60",
     "showTitle": false,
     "tableResultSettingsMap": {},
     "title": ""
    }
   },
   "outputs": [],
   "source": [
    "from pyspark.sql.functions import concat, lit, col\n",
    "\n",
    "join = (\n",
    "    trans\n",
    "    .join(cust.alias(\"cust\"), trans.customer_id == col(\"cust.customer_id\"))\n",
    "    .join(prod.alias(\"prod\"), prod.product_id == trans.product_id)\n",
    "    .withColumn(\"Customer_Name\", concat(col(\"cust.first_name\"), col(\"cust.last_name\")))\n",
    "    .select(\"transaction_id\", col(\"cust.customer_id\"), col(\"prod.product_id\"), \"Customer_Name\")\n",
    ")\n",
    "\n",
    "display(join)\n"
   ]
  },
  {
   "cell_type": "code",
   "execution_count": 0,
   "metadata": {
    "application/vnd.databricks.v1+cell": {
     "cellMetadata": {
      "byteLimit": 2048000,
      "rowLimit": 10000
     },
     "inputWidgets": {},
     "nuid": "1d81f111-b529-48ee-8a75-fffbfcf4d3a9",
     "showTitle": false,
     "tableResultSettingsMap": {},
     "title": ""
    }
   },
   "outputs": [],
   "source": [
    "# 2. Create a New Column\n",
    "# Add a column: total_amount = price × quantity\n",
    "\n",
    "df = (trans.withColumn(\"total_amount\" , round(col(\"price\") * col(\"quantity\"),2))\n",
    "      .select(\"customer_id\",\"product_id\",\"price\",\"quantity\",\"total_amount\"))\n",
    "\n",
    "display(df)      \n"
   ]
  },
  {
   "cell_type": "code",
   "execution_count": 0,
   "metadata": {
    "application/vnd.databricks.v1+cell": {
     "cellMetadata": {
      "byteLimit": 2048000,
      "rowLimit": 10000
     },
     "inputWidgets": {},
     "nuid": "06b1a993-b768-4a6a-9d88-8fb237a3c538",
     "showTitle": false,
     "tableResultSettingsMap": {},
     "title": ""
    }
   },
   "outputs": [],
   "source": [
    "# 3. Find the top 5 customers based on total spending.\n",
    "\n",
    "df = (trans\n",
    "      .withColumn(\"total_amount\" , round(col(\"price\") * col(\"quantity\"),2))\n",
    "      .orderBy(desc(\"total_amount\"))\n",
    "      .select(\"customer_id\",\"product_id\",\"quantity\",\"price\",\"total_amount\")\n",
    "      .limit(5)\n",
    "        )\n",
    "\n",
    "display(df)       \n",
    "      "
   ]
  },
  {
   "cell_type": "code",
   "execution_count": 0,
   "metadata": {
    "application/vnd.databricks.v1+cell": {
     "cellMetadata": {
      "byteLimit": 2048000,
      "rowLimit": 10000
     },
     "inputWidgets": {},
     "nuid": "9729cb3d-921a-459a-be43-747c861e3388",
     "showTitle": false,
     "tableResultSettingsMap": {},
     "title": ""
    }
   },
   "outputs": [],
   "source": [
    "# 4. Category Sales Summary For each category, calculate total revenue.\n",
    "\n",
    "df = (\n",
    "    trans\n",
    "    .groupBy(\"category\")\n",
    "    .agg(round(sum(col(\"price\") * col(\"quantity\"))).alias(\"Total Revenue\"))\n",
    "    .orderBy(desc(\"Total Revenue\"))\n",
    ")\n",
    "\n",
    "display(df)"
   ]
  },
  {
   "cell_type": "code",
   "execution_count": 0,
   "metadata": {
    "application/vnd.databricks.v1+cell": {
     "cellMetadata": {
      "byteLimit": 2048000,
      "rowLimit": 10000
     },
     "inputWidgets": {},
     "nuid": "14f4e5aa-4ed1-4a72-bc48-ac1de375e851",
     "showTitle": false,
     "tableResultSettingsMap": {},
     "title": ""
    }
   },
   "outputs": [],
   "source": [
    "#  Filter by Date\n",
    "\n",
    "df = trans.filter(\"year(transaction_date)=2023\")\n",
    "display(df)\n",
    "\n"
   ]
  },
  {
   "cell_type": "code",
   "execution_count": 0,
   "metadata": {
    "application/vnd.databricks.v1+cell": {
     "cellMetadata": {
      "byteLimit": 2048000,
      "rowLimit": 10000
     },
     "inputWidgets": {},
     "nuid": "ac4a619e-f068-4067-bfa6-2e0e05609dba",
     "showTitle": false,
     "tableResultSettingsMap": {},
     "title": ""
    }
   },
   "outputs": [
    {
     "output_type": "display_data",
     "data": {
      "text/plain": [
       "Databricks visualization. Run in Databricks to view."
      ]
     },
     "metadata": {
      "application/vnd.databricks.v1.subcommand+json": {
       "baseErrorDetails": null,
       "bindings": {},
       "collapsed": false,
       "command": "%python\n__backend_agg_display_orig = display\n__backend_agg_dfs = []\ndef __backend_agg_display_new(df):\n    __backend_agg_df_modules = [\"pandas.core.frame\", \"databricks.koalas.frame\", \"pyspark.sql.dataframe\", \"pyspark.pandas.frame\", \"pyspark.sql.connect.dataframe\"]\n    if (type(df).__module__ in __backend_agg_df_modules and type(df).__name__ == 'DataFrame') or isinstance(df, list):\n        __backend_agg_dfs.append(df)\n\ndisplay = __backend_agg_display_new\n\ndef __backend_agg_user_code_fn():\n    import base64\n    exec(base64.standard_b64decode(\"IyBDaXR5LUJhc2VkIFNhbGVzIFJlcG9ydAojIEZvciBlYWNoIGNpdHksIGNhbGN1bGF0ZToKIyBOdW1iZXIgb2YgdHJhbnNhY3Rpb25zCiMgVG90YWwgcmV2ZW51ZQojIEF2ZXJhZ2Ugb3JkZXIgdmFsdWUKCmRmID0gKHRyYW5zCiAgICAgIC5ncm91cEJ5KCJjaXR5IikKICAgICAgLmFnZygKICAgICAgICAgIGNvdW50KCIqIikuYWxpYXMoIk51bWJlciBvZiB0cmFuc2FjdGlvbnMiKSwKICAgICAgICAgIHN1bShjb2woInByaWNlIikgKiBjb2woInF1YW50aXR5IikpLmFsaWFzKCJUb3RhbCByZXZlbnVlIiksCiAgICAgICAgICBhdmcoY29sKCJwcmljZSIpICogY29sKCJxdWFudGl0eSIpKS5hbGlhcygiQXZlcmFnZSBvcmRlciB2YWx1ZSIpCiAgICAgICkpCmRpc3BsYXkoZGYpCiAgIA==\").decode())\n\ntry:\n    # run user code\n    __backend_agg_user_code_fn()\n\n    #reset display function\n    display = __backend_agg_display_orig\n\n    if len(__backend_agg_dfs) > 0:\n        # create a temp view\n        if type(__backend_agg_dfs[0]).__module__ == \"databricks.koalas.frame\":\n            # koalas dataframe\n            __backend_agg_dfs[0].to_spark().createOrReplaceTempView(\"DatabricksView382f031\")\n        elif type(__backend_agg_dfs[0]).__module__ == \"pandas.core.frame\" or isinstance(__backend_agg_dfs[0], list):\n            # pandas dataframe\n            spark.createDataFrame(__backend_agg_dfs[0]).createOrReplaceTempView(\"DatabricksView382f031\")\n        else:\n            __backend_agg_dfs[0].createOrReplaceTempView(\"DatabricksView382f031\")\n        #run backend agg\n        display(spark.sql(\"\"\"WITH q AS (select * from DatabricksView382f031) SELECT `city`,SUM(`Total revenue`) `column_a452d6fa114`,SUM(`Number of transactions`) `column_a452d6fa117`,SUM(`Average order value`) `column_a452d6fa120` FROM q GROUP BY `city`\"\"\"))\n    else:\n        displayHTML(\"dataframe no longer exists. If you're using dataframe.display(), use display(dataframe) instead.\")\n\n\nfinally:\n    spark.sql(\"drop view if exists DatabricksView382f031\")\n    display = __backend_agg_display_orig\n    del __backend_agg_display_new\n    del __backend_agg_display_orig\n    del __backend_agg_dfs\n    del __backend_agg_user_code_fn\n\n",
       "commandTitle": "Visualization 1",
       "commandType": "auto",
       "commandVersion": 0,
       "commentThread": [],
       "commentsVisible": false,
       "contentSha256Hex": null,
       "customPlotOptions": {
        "redashChart": [
         {
          "key": "type",
          "value": "CHART"
         },
         {
          "key": "options",
          "value": {
           "alignYAxesAtZero": true,
           "coefficient": 1,
           "columnConfigurationMap": {
            "x": {
             "column": "city",
             "id": "column_a452d6fa112"
            },
            "y": [
             {
              "column": "Total revenue",
              "id": "column_a452d6fa114",
              "transform": "SUM"
             },
             {
              "column": "Number of transactions",
              "id": "column_a452d6fa117",
              "transform": "SUM"
             },
             {
              "column": "Average order value",
              "id": "column_a452d6fa120",
              "transform": "SUM"
             }
            ]
           },
           "dateTimeFormat": "DD/MM/YYYY HH:mm",
           "direction": {
            "type": "counterclockwise"
           },
           "error_y": {
            "type": "data",
            "visible": true
           },
           "globalSeriesType": "pie",
           "isAggregationOn": true,
           "legend": {
            "traceorder": "normal"
           },
           "missingValuesAsZero": true,
           "numberFormat": "0,0.[00000]",
           "percentFormat": "0[.]00%",
           "series": {
            "error_y": {
             "type": "data",
             "visible": true
            },
            "stacking": null
           },
           "seriesOptions": {
            "column_a452d6fa114": {
             "name": "Total Sales",
             "type": "pie",
             "yAxis": 0
            },
            "column_a452d6fa117": {
             "name": "Number of Transactions ",
             "type": "pie",
             "yAxis": 0
            },
            "column_a452d6fa120": {
             "name": "Average Sales",
             "type": "pie",
             "yAxis": 0
            }
           },
           "showDataLabels": true,
           "sizemode": "diameter",
           "sortX": true,
           "sortY": true,
           "swappedAxes": false,
           "textFormat": "",
           "useAggregationsUi": true,
           "valuesOptions": {},
           "version": 2,
           "xAxis": {
            "labels": {
             "enabled": true
            },
            "type": "-"
           },
           "yAxis": [
            {
             "type": "-"
            },
            {
             "opposite": true,
             "type": "-"
            }
           ]
          }
         }
        ]
       },
       "datasetPreviewNameToCmdIdMap": {},
       "diffDeletes": [],
       "diffInserts": [],
       "displayType": "redashChart",
       "error": null,
       "errorDetails": null,
       "errorSummary": null,
       "errorTraceType": null,
       "finishTime": 0,
       "globalVars": {},
       "guid": "",
       "height": "auto",
       "hideCommandCode": false,
       "hideCommandResult": false,
       "iPythonMetadata": null,
       "inputWidgets": {},
       "isLockedInExamMode": false,
       "latestUser": "a user",
       "latestUserId": null,
       "listResultMetadata": null,
       "metadata": {},
       "nuid": "7d30c76c-ce80-4e05-8107-f39c5362c89a",
       "origId": 0,
       "parentHierarchy": [],
       "pivotAggregation": null,
       "pivotColumns": null,
       "position": 9.0,
       "resultDbfsErrorMessage": null,
       "resultDbfsStatus": "INLINED_IN_TREE",
       "results": null,
       "showCommandTitle": false,
       "startTime": 0,
       "state": "input",
       "streamStates": {},
       "subcommandOptions": {
        "queryPlan": {
         "groups": [
          {
           "column": "city",
           "type": "column"
          }
         ],
         "selects": [
          {
           "column": "city",
           "type": "column"
          },
          {
           "alias": "column_a452d6fa114",
           "args": [
            {
             "column": "Total revenue",
             "type": "column"
            }
           ],
           "function": "SUM",
           "type": "function"
          },
          {
           "alias": "column_a452d6fa117",
           "args": [
            {
             "column": "Number of transactions",
             "type": "column"
            }
           ],
           "function": "SUM",
           "type": "function"
          },
          {
           "alias": "column_a452d6fa120",
           "args": [
            {
             "column": "Average order value",
             "type": "column"
            }
           ],
           "function": "SUM",
           "type": "function"
          }
         ]
        }
       },
       "submitTime": 0,
       "subtype": "tableResultSubCmd.visualization",
       "tableResultIndex": 0,
       "tableResultSettingsMap": {},
       "useConsistentColors": false,
       "version": "CommandV1",
       "width": "auto",
       "workflows": null,
       "xColumns": null,
       "yColumns": null
      }
     },
     "output_type": "display_data"
    }
   ],
   "source": [
    "# City-Based Sales Report\n",
    "# For each city, calculate:\n",
    "# Number of transactions\n",
    "# Total revenue\n",
    "# Average order value\n",
    "\n",
    "df = (trans\n",
    "      .groupBy(\"city\")\n",
    "      .agg(\n",
    "          count(\"*\").alias(\"Number of transactions\"),\n",
    "          sum(col(\"price\") * col(\"quantity\")).alias(\"Total revenue\"),\n",
    "          avg(col(\"price\") * col(\"quantity\")).alias(\"Average order value\")\n",
    "      ))\n",
    "      \n",
    "display(df)\n",
    "   "
   ]
  },
  {
   "cell_type": "code",
   "execution_count": 0,
   "metadata": {
    "application/vnd.databricks.v1+cell": {
     "cellMetadata": {
      "byteLimit": 2048000,
      "rowLimit": 10000
     },
     "inputWidgets": {},
     "nuid": "fc197bc7-9161-405a-8fd8-760d714f8a5c",
     "showTitle": false,
     "tableResultSettingsMap": {
      "0": {
       "dataGridStateBlob": "{\"version\":1,\"tableState\":{\"columnPinning\":{\"left\":[\"#row_number#\"],\"right\":[]},\"columnSizing\":{},\"columnVisibility\":{}},\"settings\":{\"columns\":{}},\"syncTimestamp\":1754703963913}",
       "filterBlob": null,
       "queryPlanFiltersBlob": null,
       "tableResultIndex": 0
      }
     },
     "title": ""
    }
   },
   "outputs": [],
   "source": [
    "# Find customers who purchased Electronics AND spent more than $2000 in total.\n",
    "\n",
    "df = (trans\n",
    "      .join(cust, cust.customer_id == trans.customer_id)\n",
    "      .withColumn(\"Amount_Spend\", (col(\"price\") * col(\"quantity\")))\n",
    "      .select(trans.customer_id.alias(\"customer_id\"), \"transaction_date\" ,\"Amount_Spend\")\n",
    "      .filter(\"Amount_Spend > 2000\")\n",
    "      .filter(\"category == 'Electronics'\")\n",
    "      .orderBy(desc(\"Amount_Spend\"))\n",
    "      )\n",
    "\n",
    "display(df)"
   ]
  }
 ],
 "metadata": {
  "application/vnd.databricks.v1+notebook": {
   "computePreferences": null,
   "dashboards": [],
   "environmentMetadata": {
    "base_environment": "",
    "environment_version": "2"
   },
   "inputWidgetPreferences": null,
   "language": "python",
   "notebookMetadata": {
    "pythonIndentUnit": 4
   },
   "notebookName": "Part-001",
   "widgets": {}
  },
  "language_info": {
   "name": "python"
  }
 },
 "nbformat": 4,
 "nbformat_minor": 0
}

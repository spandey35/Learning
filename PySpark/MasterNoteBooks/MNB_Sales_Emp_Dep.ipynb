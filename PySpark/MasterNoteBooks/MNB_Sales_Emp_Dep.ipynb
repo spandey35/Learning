{
 "cells": [
  {
   "cell_type": "code",
   "execution_count": 0,
   "metadata": {
    "application/vnd.databricks.v1+cell": {
     "cellMetadata": {
      "byteLimit": 2048000,
      "rowLimit": 10000
     },
     "inputWidgets": {},
     "nuid": "0a04c06d-05b3-4d41-8586-f62874385ddd",
     "showTitle": false,
     "tableResultSettingsMap": {},
     "title": ""
    }
   },
   "outputs": [],
   "source": [
    "from pyspark.sql.functions import *\n",
    "from pyspark.sql.window import Window\n",
    "from pyspark.sql.types import *\n",
    "\n",
    "\n",
    "def load_department():\n",
    "    return (spark.read\n",
    "      .format(\"csv\")\n",
    "      .option(\"Path\",\"/Volumes/workspace/default/pyspark_source/department_spark.csv\")\n",
    "      .option(\"header\",True)\n",
    "      .option(\"inferSchema\",True)\n",
    "      .load()\n",
    "      )\n",
    "\n",
    "def load_salary():\n",
    "    return (spark.read\n",
    "      .format(\"csv\")\n",
    "      .option(\"Path\",\"/Volumes/workspace/default/pyspark_source/salary_spark.csv\")\n",
    "      .option(\"header\",True)\n",
    "      .option(\"inferSchema\",True)\n",
    "      .load()\n",
    "      )    \n",
    "    \n",
    "def load_employee():\n",
    "    return (spark.read\n",
    "      .format(\"csv\")\n",
    "      .option(\"Path\",\"/Volumes/workspace/default/pyspark_source/employees_spark.csv\")\n",
    "      .option(\"header\",True)\n",
    "      .option(\"inferSchema\",True)\n",
    "      .load()\n",
    "      )      \n",
    "   \n"
   ]
  }
 ],
 "metadata": {
  "application/vnd.databricks.v1+notebook": {
   "computePreferences": null,
   "dashboards": [],
   "environmentMetadata": {
    "base_environment": "",
    "environment_version": "2"
   },
   "inputWidgetPreferences": null,
   "language": "python",
   "notebookMetadata": {
    "pythonIndentUnit": 4
   },
   "notebookName": "MNB_Sales_Emp_Dep",
   "widgets": {}
  },
  "language_info": {
   "name": "python"
  }
 },
 "nbformat": 4,
 "nbformat_minor": 0
}

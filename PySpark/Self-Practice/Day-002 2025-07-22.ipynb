{
 "cells": [
  {
   "cell_type": "code",
   "execution_count": 0,
   "metadata": {
    "application/vnd.databricks.v1+cell": {
     "cellMetadata": {
      "byteLimit": 2048000,
      "rowLimit": 10000
     },
     "inputWidgets": {},
     "nuid": "5674ccde-b2db-4086-ab17-b437064b58ac",
     "showTitle": false,
     "tableResultSettingsMap": {},
     "title": ""
    }
   },
   "outputs": [],
   "source": [
    "%run ./MasterNoteBooks/MNB_Sales_Emp_Dep"
   ]
  },
  {
   "cell_type": "code",
   "execution_count": 0,
   "metadata": {
    "application/vnd.databricks.v1+cell": {
     "cellMetadata": {
      "byteLimit": 2048000,
      "rowLimit": 10000
     },
     "inputWidgets": {},
     "nuid": "0ead80c2-5ba7-4adb-9267-1b4179d133ec",
     "showTitle": false,
     "tableResultSettingsMap": {},
     "title": ""
    }
   },
   "outputs": [],
   "source": [
    "## Create a UDF to generate a unique employee code combining Department, Location, and ID.\n",
    "\n",
    "emp = load_employee()\n",
    "dep = load_department()\n",
    "sal = load_salary()\n",
    "\n",
    "def UniqueEmployeeID (Department, Location, EmployeeID):\n",
    "    slice_d = str(Department)[:]\n",
    "    slice_e = str(EmployeeID)[:]\n",
    "    slice_L = str(Location)[:]\n",
    "    return f\"{slice_e}_{slice_d}_{slice_L}\"\n",
    "\n",
    "udf_val = udf(UniqueEmployeeID,StringType())\n",
    "\n",
    "join = (emp\n",
    "        .join(sal,\"EmployeeID\")\n",
    "        .join(dep,\"EmployeeId\")\n",
    "        .withColumn(\"Unique\",udf_val(\"Department\", \"EmployeeId\", \"Location\"))\n",
    "        .select(\"EmployeeId\",\"Department\",\"Location\",\"Unique\")\n",
    "        )\n",
    "\n",
    "display(join)\n"
   ]
  },
  {
   "cell_type": "code",
   "execution_count": 0,
   "metadata": {
    "application/vnd.databricks.v1+cell": {
     "cellMetadata": {
      "byteLimit": 2048000,
      "rowLimit": 10000
     },
     "inputWidgets": {},
     "nuid": "b4180132-4928-482b-93a4-5c471b2de181",
     "showTitle": false,
     "tableResultSettingsMap": {},
     "title": ""
    }
   },
   "outputs": [],
   "source": [
    "## Create a UDF to compute salary after hypothetical deductions\n",
    "\n",
    "def deduction(AnnualSalary,AnnualBonus,Tax):\n",
    "    return AnnualSalary + AnnualBonus -Tax\n",
    "\n",
    "udf_val = udf(deduction,DoubleType())\n",
    "\n",
    "join = (emp\n",
    "        .join(sal,\"EmployeeId\")\n",
    "        .withColumn(\"NetSalary\",(udf_val(\"AnnualSalary\",\"AnnualBonus\",\"Tax\")))\n",
    "        .withColumn(\"NetSalary\",round(col(\"NetSalary\"),2))\n",
    "        .select(\"EmployeeId\",\"NetSalary\")\n",
    ")\n",
    "\n",
    "display(join)"
   ]
  },
  {
   "cell_type": "code",
   "execution_count": 0,
   "metadata": {
    "application/vnd.databricks.v1+cell": {
     "cellMetadata": {
      "byteLimit": 2048000,
      "implicitDf": true,
      "rowLimit": 10000
     },
     "inputWidgets": {},
     "nuid": "e167ea5a-122d-4f2c-91cf-ec9fe4db8122",
     "showTitle": false,
     "tableResultSettingsMap": {},
     "title": ""
    }
   },
   "outputs": [],
   "source": [
    "%sql\n",
    "select 1"
   ]
  }
 ],
 "metadata": {
  "application/vnd.databricks.v1+notebook": {
   "computePreferences": null,
   "dashboards": [],
   "environmentMetadata": {
    "base_environment": "",
    "environment_version": "2"
   },
   "inputWidgetPreferences": null,
   "language": "python",
   "notebookMetadata": {
    "mostRecentlyExecutedCommandWithImplicitDF": {
     "commandId": 4883726811942132,
     "dataframes": [
      "_sqldf"
     ]
    },
    "pythonIndentUnit": 4
   },
   "notebookName": "Day-002 2025-07-22",
   "widgets": {}
  },
  "language_info": {
   "name": "python"
  }
 },
 "nbformat": 4,
 "nbformat_minor": 0
}

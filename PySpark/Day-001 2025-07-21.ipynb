{
 "cells": [
  {
   "cell_type": "code",
   "execution_count": 0,
   "metadata": {
    "application/vnd.databricks.v1+cell": {
     "cellMetadata": {
      "byteLimit": 2048000,
      "rowLimit": 10000
     },
     "inputWidgets": {},
     "nuid": "d775fd7e-eb60-4191-9a4f-b7b4b1793c6d",
     "showTitle": false,
     "tableResultSettingsMap": {},
     "title": ""
    }
   },
   "outputs": [],
   "source": [
    "%run ./MasterNoteBooks/MNB_Sales_Emp_Dep"
   ]
  },
  {
   "cell_type": "code",
   "execution_count": 0,
   "metadata": {
    "application/vnd.databricks.v1+cell": {
     "cellMetadata": {
      "byteLimit": 2048000,
      "rowLimit": 10000
     },
     "inputWidgets": {},
     "nuid": "74b2d6f1-b2cb-4340-883a-39da33250b63",
     "showTitle": false,
     "tableResultSettingsMap": {},
     "title": ""
    }
   },
   "outputs": [],
   "source": [
    "## Create a UDF to normalize NetSalary between 0 and 1 across all employees.\n",
    "\n",
    "emp = load_employee() \n",
    "dep =load_department ()\n",
    "sal = load_salary()\n",
    "\n",
    "## Taking min and max netsalary for employees. \n",
    "min_salary = sal.agg(min(\"NetSalary\")).collect()[0][0]\n",
    "max_salary = sal.agg(max(\"NetSalary\")).collect()[0][0]\n",
    "\n",
    "\n",
    "def NormalizeSalary(NetSalary):\n",
    "    try:\n",
    "        if max_salary != min_salary:\n",
    "            return (NetSalary - min_salary) / (max_salary- min_salary)\n",
    "        else :\n",
    "            return 0.0\n",
    "    \n",
    "    except Exception as E:\n",
    "        return E\n",
    "\n",
    "join =  (emp\n",
    "         .join(dep,\"EmployeeID\")\n",
    "         .join(sal,\"EmployeeID\")) \n",
    "\n",
    "udf_NormalizeSalary = udf(NormalizeSalary , DoubleType())\n",
    "\n",
    "final = (\n",
    "    join.withColumn(\"NormalizedSalary\",udf_NormalizeSalary(\"NetSalary\"))\n",
    "    .withColumn(\"NormalizedSalary\",round(col(\"NormalizedSalary\"),2))\n",
    "    .select(\"EmployeeID\",\"Name\",\"Department\",\"NormalizedSalary\")\n",
    "    .where(\"NormalizedSalary is not null\")\n",
    ")\n",
    "\n",
    "display(final)"
   ]
  }
 ],
 "metadata": {
  "application/vnd.databricks.v1+notebook": {
   "computePreferences": null,
   "dashboards": [],
   "environmentMetadata": {
    "base_environment": "",
    "environment_version": "2"
   },
   "inputWidgetPreferences": null,
   "language": "python",
   "notebookMetadata": {
    "pythonIndentUnit": 4
   },
   "notebookName": "Day-001 2025-07-21",
   "widgets": {}
  },
  "language_info": {
   "name": "python"
  }
 },
 "nbformat": 4,
 "nbformat_minor": 0
}

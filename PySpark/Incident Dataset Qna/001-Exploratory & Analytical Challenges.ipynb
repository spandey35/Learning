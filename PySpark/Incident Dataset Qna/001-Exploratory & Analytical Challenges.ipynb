{
 "cells": [
  {
   "cell_type": "code",
   "execution_count": 0,
   "metadata": {
    "application/vnd.databricks.v1+cell": {
     "cellMetadata": {
      "byteLimit": 2048000,
      "rowLimit": 10000
     },
     "inputWidgets": {},
     "nuid": "21c7f4c6-9d7b-46bf-9b95-805b51ede914",
     "showTitle": false,
     "tableResultSettingsMap": {},
     "title": ""
    }
   },
   "outputs": [],
   "source": [
    "%run /Workspace/Users/surajss.3110@gmail.com/Learning/PySpark/MasterNoteBooks/INC_MasterNoteBook\n",
    "\n"
   ]
  },
  {
   "cell_type": "code",
   "execution_count": 0,
   "metadata": {
    "application/vnd.databricks.v1+cell": {
     "cellMetadata": {
      "byteLimit": 2048000,
      "rowLimit": 10000
     },
     "inputWidgets": {},
     "nuid": "a5e02bb9-1c30-44fb-9c0c-7e4122c2ea59",
     "showTitle": false,
     "tableResultSettingsMap": {},
     "title": ""
    }
   },
   "outputs": [],
   "source": [
    "inc = load_INC()\n",
    "display(inc)"
   ]
  },
  {
   "cell_type": "code",
   "execution_count": 0,
   "metadata": {
    "application/vnd.databricks.v1+cell": {
     "cellMetadata": {
      "byteLimit": 2048000,
      "rowLimit": 10000
     },
     "inputWidgets": {},
     "nuid": "4e3bda13-2b54-4a29-8303-4b82d4b14f97",
     "showTitle": false,
     "tableResultSettingsMap": {
      "0": {
       "dataGridStateBlob": "{\"version\":1,\"tableState\":{\"columnPinning\":{\"left\":[\"#row_number#\"],\"right\":[]},\"columnSizing\":{\"count\":189},\"columnVisibility\":{}},\"settings\":{\"columns\":{}},\"syncTimestamp\":1754145808472}",
       "filterBlob": null,
       "queryPlanFiltersBlob": null,
       "tableResultIndex": 0
      }
     },
     "title": ""
    }
   },
   "outputs": [
    {
     "output_type": "display_data",
     "data": {
      "text/plain": [
       "Databricks visualization. Run in Databricks to view."
      ]
     },
     "metadata": {
      "application/vnd.databricks.v1.subcommand+json": {
       "baseErrorDetails": null,
       "bindings": {},
       "collapsed": false,
       "command": "%python\n__backend_agg_display_orig = display\n__backend_agg_dfs = []\ndef __backend_agg_display_new(df):\n    __backend_agg_df_modules = [\"pandas.core.frame\", \"databricks.koalas.frame\", \"pyspark.sql.dataframe\", \"pyspark.pandas.frame\", \"pyspark.sql.connect.dataframe\"]\n    if (type(df).__module__ in __backend_agg_df_modules and type(df).__name__ == 'DataFrame') or isinstance(df, list):\n        __backend_agg_dfs.append(df)\n\ndisplay = __backend_agg_display_new\n\ndef __backend_agg_user_code_fn():\n    import base64\n    exec(base64.standard_b64decode(\"IyAxLiBUaWNrZXQgVm9sdW1lIFRyZW5kIERldGVjdGlvbiBJZGVudGlmeSBzdWRkZW4gc3Bpa2VzIG9yIGRyb3BzIGluIHRpY2tldCB2b2x1bWUgb3ZlciB0aW1lIHVzaW5nIHN0YXRpc3RpY2FsIHRocmVzaG9sZHMgb3IgbW92aW5nIGF2ZXJhZ2VzLgoKZGYxYSA9ICgKICAgIGluYwogICAgLndpdGhDb2x1bW4oIk9wZW5lZCIsIGV4cHIoInRyeV90b190aW1lc3RhbXAoT3BlbmVkLCdNTS9kZC95eXl5IEhIOm1tOnNzJykiKSkKICAgIC53aXRoQ29sdW1uKCJSZXNvbHZlZCIsIGV4cHIoInRyeV90b190aW1lc3RhbXAoUmVzb2x2ZWQsJ01NL2RkL3l5eXkgSEg6bW06c3MnKSIpKQogICAgLm5hLmRyb3Aoc3Vic2V0PVsiT3BlbmVkIiwgIlJlc29sdmVkIl0pCiAgICAud2l0aENvbHVtbigiTW9udGhOYW1lIiwgbW9udGgoIk9wZW5lZCIpKQogICAgLmdyb3VwYnkoIk1vbnRoTmFtZSIpCiAgICAuY291bnQoKQogICAgLndpdGhDb2x1bW5SZW5hbWVkKCJjb3VudCIsICJDb3VudCBPZiBJbmNpZGVudCBpbiBNb250aCIpCiAgICAub3JkZXJCeShjb2woIk1vbnRoTmFtZSIpKQopCgptb3ZpbmdfYXZnX3dpbmRvdyA9IFdpbmRvdy5vcmRlckJ5KCJNb250aE5hbWUiKS5yYW5nZUJldHdlZW4oLTIsIDApCgpkZjFhX3dpdGhfbWEgPSAoCiAgICBkZjFhLndpdGhDb2x1bW4oIk1vdmluZ0F2Z18zTW9udGgiLCBhdmcoIkNvdW50IE9mIEluY2lkZW50IGluIE1vbnRoIikub3Zlcihtb3ZpbmdfYXZnX3dpbmRvdykpCiAgICAud2l0aENvbHVtbigiRGV2aWF0aW9uIixyb3VuZChjb2woIkNvdW50IE9mIEluY2lkZW50IGluIE1vbnRoIiktY29sKCJNb3ZpbmdBdmdfM01vbnRoIiksMikpCiAgICAud2l0aENvbHVtbigiVHJlbmRGbGFnIiwgd2hlbihjb2woIkRldmlhdGlvbiIpID4gMSwgIlNwaWtlIikKICAgIC53aGVuKGNvbCgiRGV2aWF0aW9uIikgPCAtMSwgIkRyb3AiKQogICAgLm90aGVyd2lzZSgiTm9ybWFsIikKCiAgICApKQoKZGlzcGxheShkZjFhX3dpdGhfbWEpCgoKCg==\").decode())\n\ntry:\n    # run user code\n    __backend_agg_user_code_fn()\n\n    #reset display function\n    display = __backend_agg_display_orig\n\n    if len(__backend_agg_dfs) > 0:\n        # create a temp view\n        if type(__backend_agg_dfs[0]).__module__ == \"databricks.koalas.frame\":\n            # koalas dataframe\n            __backend_agg_dfs[0].to_spark().createOrReplaceTempView(\"DatabricksViewf0b918b\")\n        elif type(__backend_agg_dfs[0]).__module__ == \"pandas.core.frame\" or isinstance(__backend_agg_dfs[0], list):\n            # pandas dataframe\n            spark.createDataFrame(__backend_agg_dfs[0]).createOrReplaceTempView(\"DatabricksViewf0b918b\")\n        else:\n            __backend_agg_dfs[0].createOrReplaceTempView(\"DatabricksViewf0b918b\")\n        #run backend agg\n        display(spark.sql(\"\"\"WITH q AS (select * from DatabricksViewf0b918b) SELECT `MonthName`,SUM(`Count Of Incident in Month`) `column_ddcdc58a71`,SUM(`MovingAvg_3Month`) `column_ddcdc58a74` FROM q GROUP BY `MonthName`\"\"\"))\n    else:\n        displayHTML(\"dataframe no longer exists. If you're using dataframe.display(), use display(dataframe) instead.\")\n\n\nfinally:\n    spark.sql(\"drop view if exists DatabricksViewf0b918b\")\n    display = __backend_agg_display_orig\n    del __backend_agg_display_new\n    del __backend_agg_display_orig\n    del __backend_agg_dfs\n    del __backend_agg_user_code_fn\n\n",
       "commandTitle": "Visualization 1",
       "commandType": "auto",
       "commandVersion": 0,
       "commentThread": [],
       "commentsVisible": false,
       "contentSha256Hex": null,
       "customPlotOptions": {
        "redashChart": [
         {
          "key": "type",
          "value": "CHART"
         },
         {
          "key": "options",
          "value": {
           "alignYAxesAtZero": true,
           "coefficient": 1,
           "columnConfigurationMap": {
            "x": {
             "column": "MonthName",
             "id": "column_ddcdc58a55"
            },
            "y": [
             {
              "column": "Count Of Incident in Month",
              "id": "column_ddcdc58a71",
              "transform": "SUM"
             },
             {
              "column": "MovingAvg_3Month",
              "id": "column_ddcdc58a74",
              "transform": "SUM"
             }
            ]
           },
           "dateTimeFormat": "DD/MM/YYYY HH:mm",
           "direction": {
            "type": "counterclockwise"
           },
           "error_y": {
            "type": "data",
            "visible": true
           },
           "globalSeriesType": "line",
           "isAggregationOn": true,
           "legend": {
            "traceorder": "normal"
           },
           "missingValuesAsZero": true,
           "numBins": 10,
           "numberFormat": "0,0.[00000]",
           "percentFormat": "0[.]00%",
           "series": {
            "error_y": {
             "type": "data",
             "visible": true
            },
            "stacking": null
           },
           "seriesOptions": {
            "column_ddcdc58a52": {
             "type": "line",
             "yAxis": 0
            },
            "column_ddcdc58a57": {
             "type": "line",
             "yAxis": 0
            },
            "column_ddcdc58a60": {
             "type": "line",
             "yAxis": 0
            },
            "column_ddcdc58a63": {
             "type": "line",
             "yAxis": 0
            },
            "column_ddcdc58a67": {
             "type": "line",
             "yAxis": 0
            },
            "column_ddcdc58a71": {
             "type": "line",
             "yAxis": 0
            },
            "column_ddcdc58a74": {
             "type": "line",
             "yAxis": 0
            }
           },
           "showDataLabels": false,
           "sizemode": "diameter",
           "sortX": true,
           "sortY": true,
           "swappedAxes": false,
           "textFormat": "",
           "useAggregationsUi": true,
           "valuesOptions": {},
           "version": 2,
           "xAxis": {
            "labels": {
             "enabled": true
            },
            "type": "-"
           },
           "yAxis": [
            {
             "type": "-"
            },
            {
             "opposite": true,
             "type": "-"
            }
           ]
          }
         }
        ]
       },
       "datasetPreviewNameToCmdIdMap": {},
       "diffDeletes": [],
       "diffInserts": [],
       "displayType": "redashChart",
       "error": null,
       "errorDetails": null,
       "errorSummary": null,
       "errorTraceType": null,
       "finishTime": 0,
       "globalVars": {},
       "guid": "",
       "height": "auto",
       "hideCommandCode": false,
       "hideCommandResult": false,
       "iPythonMetadata": null,
       "inputWidgets": {},
       "isLockedInExamMode": false,
       "latestUser": "a user",
       "latestUserId": null,
       "listResultMetadata": null,
       "metadata": {
        "byteLimit": 2048000,
        "rowLimit": 10000
       },
       "nuid": "aa896c19-dea4-4fea-ba7c-cbb9a4b373b0",
       "origId": 0,
       "parentHierarchy": [],
       "pivotAggregation": null,
       "pivotColumns": null,
       "position": 4.0,
       "resultDbfsErrorMessage": null,
       "resultDbfsStatus": "INLINED_IN_TREE",
       "results": null,
       "showCommandTitle": false,
       "startTime": 0,
       "state": "input",
       "streamStates": {},
       "subcommandOptions": {
        "queryPlan": {
         "groups": [
          {
           "column": "MonthName",
           "type": "column"
          }
         ],
         "selects": [
          {
           "column": "MonthName",
           "type": "column"
          },
          {
           "alias": "column_ddcdc58a71",
           "args": [
            {
             "column": "Count Of Incident in Month",
             "type": "column"
            }
           ],
           "function": "SUM",
           "type": "function"
          },
          {
           "alias": "column_ddcdc58a74",
           "args": [
            {
             "column": "MovingAvg_3Month",
             "type": "column"
            }
           ],
           "function": "SUM",
           "type": "function"
          }
         ]
        }
       },
       "submitTime": 0,
       "subtype": "tableResultSubCmd.visualization",
       "tableResultIndex": 0,
       "tableResultSettingsMap": {},
       "useConsistentColors": false,
       "version": "CommandV1",
       "width": "auto",
       "workflows": null,
       "xColumns": null,
       "yColumns": null
      }
     },
     "output_type": "display_data"
    }
   ],
   "source": [
    "# 1. Ticket Volume Trend Detection Identify sudden spikes or drops in ticket volume over time using statistical thresholds or moving averages.\n",
    "\n",
    "df1a = (\n",
    "    inc\n",
    "    .withColumn(\"Opened\", expr(\"try_to_timestamp(Opened,'MM/dd/yyyy HH:mm:ss')\"))\n",
    "    .withColumn(\"Resolved\", expr(\"try_to_timestamp(Resolved,'MM/dd/yyyy HH:mm:ss')\"))\n",
    "    .na.drop(subset=[\"Opened\", \"Resolved\"])\n",
    "    .withColumn(\"MonthName\", month(\"Opened\"))\n",
    "    .groupby(\"MonthName\")\n",
    "    .count()\n",
    "    .withColumnRenamed(\"count\", \"Count Of Incident in Month\")\n",
    "    .orderBy(col(\"MonthName\"))\n",
    ")\n",
    "\n",
    "moving_avg_window = Window.orderBy(\"MonthName\").rangeBetween(-2, 0)\n",
    "\n",
    "df1a_with_ma = (\n",
    "    df1a.withColumn(\"MovingAvg_3Month\", avg(\"Count Of Incident in Month\").over(moving_avg_window))\n",
    "    .withColumn(\"Deviation\",round(col(\"Count Of Incident in Month\")-col(\"MovingAvg_3Month\"),2))\n",
    "    .withColumn(\"TrendFlag\", when(col(\"Deviation\") > 1, \"Spike\")\n",
    "    .when(col(\"Deviation\") < -1, \"Drop\")\n",
    "    .otherwise(\"Normal\")\n",
    "\n",
    "    ))\n",
    "\n",
    "display(df1a_with_ma)\n",
    "\n",
    "\n",
    "\n"
   ]
  },
  {
   "cell_type": "code",
   "execution_count": 0,
   "metadata": {
    "application/vnd.databricks.v1+cell": {
     "cellMetadata": {
      "byteLimit": 2048000,
      "rowLimit": 10000
     },
     "inputWidgets": {},
     "nuid": "9099db27-f2a4-4795-b99e-c0e40b19077a",
     "showTitle": false,
     "tableResultSettingsMap": {
      "0": {
       "dataGridStateBlob": "{\"version\":1,\"tableState\":{\"columnPinning\":{\"left\":[\"#row_number#\"],\"right\":[]},\"columnSizing\":{\"Summary\":636,\"Resolved Timing in Hours\":107},\"columnVisibility\":{}},\"settings\":{\"columns\":{}},\"syncTimestamp\":1754151064234}",
       "filterBlob": null,
       "queryPlanFiltersBlob": null,
       "tableResultIndex": 0
      }
     },
     "title": ""
    }
   },
   "outputs": [],
   "source": [
    "# Done by me \n",
    "\n",
    "#Resolution Time Distribution Analysis Create a histogram-like summary of resolution times bucketed into intervals (e.g., 0–2 hrs, 2–6 hrs, etc.).\n",
    "\n",
    "# Resolution Time Distribution Analysis Create a histogram-like summary of resolution times bucketed into intervals (e.g., 0–2 hrs, 2–6 hrs, etc.).\n",
    "\n",
    "df1b = (inc\n",
    "        .withColumn(\"Opened\", expr(\"try_to_timestamp(Opened,'MM/dd/yyyy HH:mm:ss')\"))\n",
    "        .withColumn(\"Resolved\", expr(\"try_to_timestamp(Resolved,'MM/dd/yyyy HH:mm:ss')\"))\n",
    "        .withColumn(\"Resolved Timing in Hours\", timestamp_diff(\"hour\", \"Opened\", \"Resolved\"))\n",
    "        .na.drop(subset=[\"Opened\", \"Resolved\"])\n",
    "        .withColumn(\"TrendFlag\", \n",
    "                    when(col(\"Resolved Timing in Hours\") <= 2, \"Quick fixes\")\n",
    "                    .when((col(\"Resolved Timing in Hours\") > 2) & (col(\"Resolved Timing in Hours\") <= 6), \"Moderate\")\n",
    "                    .when((col(\"Resolved Timing in Hours\") > 6) & (col(\"Resolved Timing in Hours\") <= 12), \"Longer\")\n",
    "                    .when((col(\"Resolved Timing in Hours\") > 12) & (col(\"Resolved Timing in Hours\") <= 24), \"Full-day issues\")\n",
    "                    .otherwise(\"Extended resolution\"))\n",
    "        .select(\"Issue\", \"Summary\", \"Opened\", \"Resolved\", \"Resolved Timing in Hours\", \"TrendFlag\")\n",
    "        )\n",
    "\n",
    "\n",
    "\n",
    "final = (\n",
    "    df1b.groupBy(\"TrendFlag\")\n",
    "    .count()\n",
    "    .orderBy(col(\"count\"))\n",
    ")         \n",
    "\n",
    "\n",
    "display(final)      "
   ]
  },
  {
   "cell_type": "code",
   "execution_count": 0,
   "metadata": {
    "application/vnd.databricks.v1+cell": {
     "cellMetadata": {
      "byteLimit": 2048000,
      "rowLimit": 10000
     },
     "inputWidgets": {},
     "nuid": "9a45382f-4422-489f-86b4-0d8a5480b72d",
     "showTitle": false,
     "tableResultSettingsMap": {},
     "title": ""
    }
   },
   "outputs": [
    {
     "output_type": "display_data",
     "data": {
      "text/plain": [
       "Databricks visualization. Run in Databricks to view."
      ]
     },
     "metadata": {
      "application/vnd.databricks.v1.subcommand+json": {
       "baseErrorDetails": null,
       "bindings": {},
       "collapsed": false,
       "command": "%python\n__backend_agg_display_orig = display\n__backend_agg_dfs = []\ndef __backend_agg_display_new(df):\n    __backend_agg_df_modules = [\"pandas.core.frame\", \"databricks.koalas.frame\", \"pyspark.sql.dataframe\", \"pyspark.pandas.frame\", \"pyspark.sql.connect.dataframe\"]\n    if (type(df).__module__ in __backend_agg_df_modules and type(df).__name__ == 'DataFrame') or isinstance(df, list):\n        __backend_agg_dfs.append(df)\n\ndisplay = __backend_agg_display_new\n\ndef __backend_agg_user_code_fn():\n    import base64\n    exec(base64.standard_b64decode(\"IyBSZXNvbHV0aW9uIFRpbWUgRGlzdHJpYnV0aW9uIEFuYWx5c2lzOiBDcmVhdGUgYSBoaXN0b2dyYW0tbGlrZSBzdW1tYXJ5IG9mIHJlc29sdXRpb24gdGltZXMgYnVja2V0ZWQgaW50byBpbnRlcnZhbHMgKGUuZy4sIDDigJMyIGhycywgMuKAkzYgaHJzLCBldGMuKS4KCmRmMWIgPSAoCiAgICBpbmMKICAgIC53aXRoQ29sdW1uKCJPcGVuZWQiLCBleHByKCJ0cnlfdG9fdGltZXN0YW1wKE9wZW5lZCwnTU0vZGQveXl5eSBISDptbTpzcycpIikpCiAgICAud2l0aENvbHVtbigiUmVzb2x2ZWQiLCBleHByKCJ0cnlfdG9fdGltZXN0YW1wKFJlc29sdmVkLCdNTS9kZC95eXl5IEhIOm1tOnNzJykiKSkKICAgIC5uYS5kcm9wKHN1YnNldD1bIk9wZW5lZCIsICJSZXNvbHZlZCJdKQogICAgLndpdGhDb2x1bW4oIlJlc29sdmVkX1RpbWluZ19pbl9Ib3VycyIsICh1bml4X3RpbWVzdGFtcCgiUmVzb2x2ZWQiKSAtIHVuaXhfdGltZXN0YW1wKCJPcGVuZWQiKSkgLyAzNjAwKQogICAgLndpdGhDb2x1bW4oCiAgICAgICAgIlRyZW5kRmxhZyIsCiAgICAgICAgd2hlbihjb2woIlJlc29sdmVkX1RpbWluZ19pbl9Ib3VycyIpIDw9IDIsICJRdWljayBmaXhlcyIpCiAgICAgICAgLndoZW4oKGNvbCgiUmVzb2x2ZWRfVGltaW5nX2luX0hvdXJzIikgPiAyKSAmIChjb2woIlJlc29sdmVkX1RpbWluZ19pbl9Ib3VycyIpIDw9IDYpLCAiTW9kZXJhdGUiKQogICAgICAgIC53aGVuKChjb2woIlJlc29sdmVkX1RpbWluZ19pbl9Ib3VycyIpID4gNikgJiAoY29sKCJSZXNvbHZlZF9UaW1pbmdfaW5fSG91cnMiKSA8PSAxMiksICJMb25nZXIiKQogICAgICAgIC53aGVuKChjb2woIlJlc29sdmVkX1RpbWluZ19pbl9Ib3VycyIpID4gMTIpICYgKGNvbCgiUmVzb2x2ZWRfVGltaW5nX2luX0hvdXJzIikgPD0gMjQpLCAiRnVsbC1kYXkgaXNzdWVzIikKICAgICAgICAub3RoZXJ3aXNlKCJFeHRlbmRlZCByZXNvbHV0aW9uIikKICAgICkKICAgIC5zZWxlY3QoIklzc3VlIiwgIlN1bW1hcnkiLCAiT3BlbmVkIiwgIlJlc29sdmVkIiwgIlJlc29sdmVkX1RpbWluZ19pbl9Ib3VycyIsICJUcmVuZEZsYWciKQopCgpmaW5hbCA9ICgKICAgIGRmMWIuZ3JvdXBCeSgiVHJlbmRGbGFnIikKICAgIC5jb3VudCgpCiAgICAub3JkZXJCeShjb2woImNvdW50IikpCikKCmRpc3BsYXkoZmluYWwp\").decode())\n\ntry:\n    # run user code\n    __backend_agg_user_code_fn()\n\n    #reset display function\n    display = __backend_agg_display_orig\n\n    if len(__backend_agg_dfs) > 0:\n        # create a temp view\n        if type(__backend_agg_dfs[0]).__module__ == \"databricks.koalas.frame\":\n            # koalas dataframe\n            __backend_agg_dfs[0].to_spark().createOrReplaceTempView(\"DatabricksView4a83dae\")\n        elif type(__backend_agg_dfs[0]).__module__ == \"pandas.core.frame\" or isinstance(__backend_agg_dfs[0], list):\n            # pandas dataframe\n            spark.createDataFrame(__backend_agg_dfs[0]).createOrReplaceTempView(\"DatabricksView4a83dae\")\n        else:\n            __backend_agg_dfs[0].createOrReplaceTempView(\"DatabricksView4a83dae\")\n        #run backend agg\n        display(spark.sql(\"\"\"WITH q AS (select * from DatabricksView4a83dae) SELECT `TrendFlag`,SUM(`count`) `column_ddcdc58a109` FROM q GROUP BY `TrendFlag`\"\"\"))\n    else:\n        displayHTML(\"dataframe no longer exists. If you're using dataframe.display(), use display(dataframe) instead.\")\n\n\nfinally:\n    spark.sql(\"drop view if exists DatabricksView4a83dae\")\n    display = __backend_agg_display_orig\n    del __backend_agg_display_new\n    del __backend_agg_display_orig\n    del __backend_agg_dfs\n    del __backend_agg_user_code_fn\n\n",
       "commandTitle": "Visualization 1",
       "commandType": "auto",
       "commandVersion": 0,
       "commentThread": [],
       "commentsVisible": false,
       "contentSha256Hex": null,
       "customPlotOptions": {
        "redashChart": [
         {
          "key": "type",
          "value": "CHART"
         },
         {
          "key": "options",
          "value": {
           "alignYAxesAtZero": true,
           "coefficient": 1,
           "columnConfigurationMap": {
            "x": {
             "column": "TrendFlag",
             "id": "column_ddcdc58a107"
            },
            "y": [
             {
              "column": "count",
              "id": "column_ddcdc58a109",
              "transform": "SUM"
             }
            ]
           },
           "dateTimeFormat": "DD/MM/YYYY HH:mm",
           "direction": {
            "type": "counterclockwise"
           },
           "error_y": {
            "type": "data",
            "visible": true
           },
           "globalSeriesType": "pie",
           "isAggregationOn": true,
           "legend": {
            "traceorder": "normal"
           },
           "missingValuesAsZero": true,
           "numBins": 10,
           "numberFormat": "0,0.[00000]",
           "percentFormat": "0[.]00%",
           "series": {
            "error_y": {
             "type": "data",
             "visible": true
            },
            "stacking": null
           },
           "seriesOptions": {
            "column_ddcdc58a102": {
             "name": "count",
             "type": "pie",
             "yAxis": 0
            },
            "column_ddcdc58a109": {
             "name": "In-Percentage ",
             "type": "pie",
             "yAxis": 0
            }
           },
           "showDataLabels": true,
           "sizemode": "diameter",
           "sortX": true,
           "sortY": true,
           "swappedAxes": false,
           "textFormat": "",
           "useAggregationsUi": true,
           "valuesOptions": {
            "Extended resolution": {
             "color": "#FF3621"
            },
            "Full-day issues": {
             "color": "#FFAB00"
            },
            "Longer": {
             "color": "#FCA4A1"
            },
            "Moderate": {
             "color": "#8BCAE7"
            },
            "Quick fixes": {
             "color": "#077A9D"
            }
           },
           "version": 2,
           "xAxis": {
            "labels": {
             "enabled": true
            },
            "type": "-"
           },
           "yAxis": [
            {
             "type": "-"
            },
            {
             "opposite": true,
             "type": "-"
            }
           ]
          }
         }
        ]
       },
       "datasetPreviewNameToCmdIdMap": {},
       "diffDeletes": [],
       "diffInserts": [],
       "displayType": "redashChart",
       "error": null,
       "errorDetails": null,
       "errorSummary": null,
       "errorTraceType": null,
       "finishTime": 0,
       "globalVars": {},
       "guid": "",
       "height": "auto",
       "hideCommandCode": false,
       "hideCommandResult": false,
       "iPythonMetadata": null,
       "inputWidgets": {},
       "isLockedInExamMode": false,
       "latestUser": "a user",
       "latestUserId": null,
       "listResultMetadata": null,
       "metadata": {},
       "nuid": "04f2666f-42f3-4234-8792-453e0149a188",
       "origId": 0,
       "parentHierarchy": [],
       "pivotAggregation": null,
       "pivotColumns": null,
       "position": 6.0,
       "resultDbfsErrorMessage": null,
       "resultDbfsStatus": "INLINED_IN_TREE",
       "results": null,
       "showCommandTitle": false,
       "startTime": 0,
       "state": "input",
       "streamStates": {},
       "subcommandOptions": {
        "queryPlan": {
         "groups": [
          {
           "column": "TrendFlag",
           "type": "column"
          }
         ],
         "selects": [
          {
           "column": "TrendFlag",
           "type": "column"
          },
          {
           "alias": "column_ddcdc58a109",
           "args": [
            {
             "column": "count",
             "type": "column"
            }
           ],
           "function": "SUM",
           "type": "function"
          }
         ]
        }
       },
       "submitTime": 0,
       "subtype": "tableResultSubCmd.visualization",
       "tableResultIndex": 0,
       "tableResultSettingsMap": {},
       "useConsistentColors": false,
       "version": "CommandV1",
       "width": "auto",
       "workflows": null,
       "xColumns": null,
       "yColumns": null
      }
     },
     "output_type": "display_data"
    }
   ],
   "source": [
    "# Resolution Time Distribution Analysis: Create a histogram-like summary of resolution times bucketed into intervals (e.g., 0–2 hrs, 2–6 hrs, etc.).\n",
    "\n",
    "df1b = (\n",
    "    inc\n",
    "    .withColumn(\"Opened\", expr(\"try_to_timestamp(Opened,'MM/dd/yyyy HH:mm:ss')\"))\n",
    "    .withColumn(\"Resolved\", expr(\"try_to_timestamp(Resolved,'MM/dd/yyyy HH:mm:ss')\"))\n",
    "    .na.drop(subset=[\"Opened\", \"Resolved\"])\n",
    "    .withColumn(\"Resolved_Timing_in_Hours\", (unix_timestamp(\"Resolved\") - unix_timestamp(\"Opened\")) / 3600)\n",
    "    .withColumn(\n",
    "        \"TrendFlag\",\n",
    "        when(col(\"Resolved_Timing_in_Hours\") <= 2, \"Quick fixes\")\n",
    "        .when((col(\"Resolved_Timing_in_Hours\") > 2) & (col(\"Resolved_Timing_in_Hours\") <= 6), \"Moderate\")\n",
    "        .when((col(\"Resolved_Timing_in_Hours\") > 6) & (col(\"Resolved_Timing_in_Hours\") <= 12), \"Longer\")\n",
    "        .when((col(\"Resolved_Timing_in_Hours\") > 12) & (col(\"Resolved_Timing_in_Hours\") <= 24), \"Full-day issues\")\n",
    "        .otherwise(\"Extended resolution\")\n",
    "    )\n",
    "    .select(\"Issue\", \"Summary\", \"Opened\", \"Resolved\", \"Resolved_Timing_in_Hours\", \"TrendFlag\")\n",
    ")\n",
    "\n",
    "final = (\n",
    "    df1b.groupBy(\"TrendFlag\")\n",
    "    .count()\n",
    "    .orderBy(col(\"count\"))\n",
    ")\n",
    "\n",
    "display(final)"
   ]
  }
 ],
 "metadata": {
  "application/vnd.databricks.v1+notebook": {
   "computePreferences": null,
   "dashboards": [],
   "environmentMetadata": {
    "base_environment": "",
    "environment_version": "2"
   },
   "inputWidgetPreferences": null,
   "language": "python",
   "notebookMetadata": {
    "pythonIndentUnit": 4
   },
   "notebookName": "001-Exploratory & Analytical Challenges",
   "widgets": {}
  },
  "language_info": {
   "name": "python"
  }
 },
 "nbformat": 4,
 "nbformat_minor": 0
}

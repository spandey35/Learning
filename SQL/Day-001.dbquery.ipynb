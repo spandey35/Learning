{
 "cells": [
  {
   "cell_type": "code",
   "execution_count": 0,
   "metadata": {
    "application/vnd.databricks.v1+cell": {
     "cellMetadata": {},
     "inputWidgets": {},
     "nuid": "94891aee-b3c4-43e9-910a-eed8776d186f",
     "showTitle": false,
     "tableResultSettingsMap": {},
     "title": ""
    }
   },
   "outputs": [],
   "source": [
    " -- List all employees who have more than 40 vacation hours and more than 40 sick leave hours.\n",
    " select * from human_resources.employee where VacationHours > 40 and SickLeaveHours >40\n",
    " order by VacationHours , SickLeaveHours;\n",
    "\n",
    " -- Find the average number of vacation hours by job title.\n",
    "select \n",
    "JobTitle,\n",
    "round(avg(VacationHours),2) as VacationHours\n",
    "from human_resources.employee group by (\n",
    "JobTitle) order by VacationHours desc;\n",
    "\n",
    "\n",
    "--3  Identify employees who were hired before the year 2010 and are still currently employed.\n",
    "select * from human_resources.employee where year(HireDate) < 2010 and CurrentFlag=1 ;\n",
    "\n",
    "\n",
    "--4  Count the number of employees by gender and marital status.\n",
    "select \n",
    "Gender,count(MaritalStatus) as MaritalStatus\n",
    "from human_resources.employee group by Gender order by Gender desc;\n",
    "\n",
    "--5 List employees whose job title contains the word 'Manager'.\n",
    "select * from human_resources.employee where JobTitle like '%Manager%';"
   ]
  }
 ],
 "metadata": {
  "application/vnd.databricks.v1+notebook": {
   "computePreferences": null,
   "dashboards": [],
   "environmentMetadata": null,
   "inputWidgetPreferences": null,
   "language": "sql",
   "notebookMetadata": {
    "sqlQueryOptions": {
     "applyAutoLimit": true,
     "catalog": "workspace",
     "schema": "default"
    }
   },
   "notebookName": "Day-001.dbquery.ipynb",
   "widgets": {}
  },
  "language_info": {
   "name": "sql"
  }
 },
 "nbformat": 4,
 "nbformat_minor": 0
}

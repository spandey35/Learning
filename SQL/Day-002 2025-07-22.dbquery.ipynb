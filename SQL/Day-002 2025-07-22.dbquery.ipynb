{
 "cells": [
  {
   "cell_type": "code",
   "execution_count": 0,
   "metadata": {
    "application/vnd.databricks.v1+cell": {
     "cellMetadata": {
      "byteLimit": 10485760,
      "rowLimit": 1000
     },
     "inputWidgets": {},
     "nuid": "fd74e5db-d0e9-465a-85c5-9c22d4c59b88",
     "showTitle": false,
     "tableResultSettingsMap": {},
     "title": ""
    }
   },
   "outputs": [],
   "source": [
    "-- Use LEAD() to estimate the bonus for the next quarter based on current bonus trends.\n",
    "SELECT \n",
    "  EPH.BusinessEntityID, \n",
    "  date_part('year', P.ModifiedDate) AS Quarterly,\n",
    "  SUM(P.Bonus) AS Bonus,\n",
    "  LEAD(SUM(P.Bonus), 1, 0) OVER (ORDER BY date_part('quarter', P.ModifiedDate)) AS Next_Quarter_Bonus\n",
    "FROM \n",
    "  workspace.sales.sales_person P \n",
    "INNER JOIN \n",
    "  workspace.human_resources.employee_pay_history EPH \n",
    "ON \n",
    "  P.BusinessEntityID = EPH.BusinessEntityID\n",
    "GROUP BY \n",
    "  EPH.BusinessEntityID, \n",
    "  date_part('quarter', P.ModifiedDate)\n",
    "ORDER BY \n",
    "  Quarterly;\n",
    "\n"
   ]
  }
 ],
 "metadata": {
  "application/vnd.databricks.v1+notebook": {
   "computePreferences": null,
   "dashboards": [],
   "environmentMetadata": null,
   "inputWidgetPreferences": null,
   "language": "sql",
   "notebookMetadata": {
    "sqlQueryOptions": {
     "applyAutoLimit": true,
     "catalog": "workspace",
     "schema": "dbo"
    }
   },
   "notebookName": "Day-002 2025-07-22.dbquery.ipynb",
   "widgets": {}
  },
  "language_info": {
   "name": "sql"
  }
 },
 "nbformat": 4,
 "nbformat_minor": 0
}

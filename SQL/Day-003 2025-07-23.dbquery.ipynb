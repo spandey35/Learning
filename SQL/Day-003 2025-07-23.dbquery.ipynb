{
 "cells": [
  {
   "cell_type": "code",
   "execution_count": 0,
   "metadata": {
    "application/vnd.databricks.v1+cell": {
     "cellMetadata": {
      "byteLimit": 10485760,
      "rowLimit": 1000
     },
     "inputWidgets": {},
     "nuid": "58ee822d-2f6b-4fce-b10b-8904a0d7d9f3",
     "showTitle": false,
     "tableResultSettingsMap": {},
     "title": ""
    }
   },
   "outputs": [],
   "source": [
    "-- 1\n",
    "-- Use RANK() to rank employees by total sales within each department.\n",
    "-- Sales.SalesPerson, HumanResources.Employee\n",
    "-- EmployeeID, Department, TotalSales, SalesRank\n",
    "\n",
    "select distinct\n",
    "E.BusinessEntityID as EmployeeID ,E.JobTitle as Department,SP.SalesYTD, \n",
    "rank() over (partition by E.JobTitle order by SP.SalesYTD desc) as SalesRank \n",
    "from  sales.sales_person SP \n",
    "inner join human_resources.employee E on SP.BusinessEntityID = SP.BusinessEntityID;\n",
    "\n",
    "\n",
    "\n",
    "-- 2 \n",
    "-- Use DENSE_RANK() to identify top performers eligible for promotion based on bonus and performance score.\n",
    "-- HumanResources.Employee, HumanResources.EmployeePayHistory\n",
    "-- EmployeeID, PerformanceScore, Bonus, PromotionRank\n",
    "select E.BusinessEntityID as EmployeeID, EPH.Rate as PerformanceScore, \n",
    "dense_rank() over (order by EPH.rate desc) as PromotionRank\n",
    "from human_resources.employee E\n",
    "inner join human_resources.employee_pay_history EPH \n",
    "on E.BusinessEntityID = EPH.BusinessEntityID;\n",
    "\n",
    "\n",
    "\n",
    "-- 3\n",
    "-- Use ROW_NUMBER() to paginate customer orders, showing only the top 10 orders per customer.\n",
    "-- Sales.SalesOrderHeader\n",
    "-- CustomerID, OrderID, RowNumber\n",
    "\n",
    "select CustomerID, OrderID, RowNumber\n",
    "from (\n",
    "    select CustomerID, SalesOrderID as OrderID, \n",
    "    row_number() over (partition by CustomerID order by SalesOrderID) as RowNumber\n",
    "    from sales.sales_order_header\n",
    ") as a\n",
    "where RowNumber <= 10;\n",
    "\n",
    "\n",
    "-- 4\n",
    "-- Use SUM() OVER() to compute a running total of monthly sales per employee.\n",
    "-- Sales.SalesOrderHeader, Sales.SalesPerson\n",
    "-- EmployeeID, Month, MonthlySales, RunningTotal\n",
    "\n",
    "select \n",
    "    SP.BusinessEntityID as EmployeeID, \n",
    "    year(SOH.OrderDate) as Year, \n",
    "    month(SOH.OrderDate) as Month,\n",
    "    sum(SOH.TotalDue) as MonthlySales,\n",
    "    sum(sum(SOH.TotalDue)) over (partition by SP.BusinessEntityID order by year(SOH.OrderDate), month(SOH.OrderDate)) as RunningTotal\n",
    "from \n",
    "    sales.sales_order_header SOH \n",
    "inner join \n",
    "    sales.sales_person SP \n",
    "on \n",
    "    SOH.SalesPersonID = SP.BusinessEntityID\n",
    "group by \n",
    "    SP.BusinessEntityID, year(SOH.OrderDate), month(SOH.OrderDate)\n",
    "order by \n",
    "    SP.BusinessEntityID, Year, Month;\n",
    "\n",
    "\n",
    "\n",
    "\n",
    "\n",
    "\n",
    "\n",
    "\n",
    "\n",
    "\n",
    "\n",
    "\n",
    "\n",
    "\n",
    "\n"
   ]
  }
 ],
 "metadata": {
  "application/vnd.databricks.v1+notebook": {
   "computePreferences": null,
   "dashboards": [],
   "environmentMetadata": null,
   "inputWidgetPreferences": null,
   "language": "sql",
   "notebookMetadata": {
    "sqlQueryOptions": {
     "applyAutoLimit": true,
     "catalog": "workspace",
     "schema": "default"
    }
   },
   "notebookName": "Day-003 2025-07-23.dbquery.ipynb",
   "widgets": {}
  },
  "language_info": {
   "name": "sql"
  }
 },
 "nbformat": 4,
 "nbformat_minor": 0
}

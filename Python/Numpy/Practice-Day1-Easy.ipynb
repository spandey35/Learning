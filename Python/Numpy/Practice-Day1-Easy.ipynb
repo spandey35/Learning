{
 "cells": [
  {
   "cell_type": "markdown",
   "id": "19970d61",
   "metadata": {},
   "source": [
    "## Practice Day1 (Easy Questions) -->Date: 23-6-2025"
   ]
  },
  {
   "cell_type": "code",
   "execution_count": 4,
   "id": "ac416c25",
   "metadata": {},
   "outputs": [
    {
     "name": "stdout",
     "output_type": "stream",
     "text": [
      "\n",
      "Creating array in 1st way:  [ 1  2  3  4  5  6  7  8  9 10]\n",
      "Type of array:  <class 'numpy.ndarray'>\n",
      "\n",
      "Creating array in 2nd way: [ 0  1  2  3  4  5  6  7  8  9 10]\n",
      "Type of array:  <class 'numpy.ndarray'>\n"
     ]
    }
   ],
   "source": [
    "## 1. Create a 1D NumPy array containing numbers from 0 to 9.  (Date: 23-6-2025)\n",
    "\n",
    "import numpy as np \n",
    "\n",
    "## 1st Way \n",
    "arr_1d = np.array ([1 , 2 , 3, 4, 5, 6, 7, 8, 9, 10])\n",
    "print(\"\\nCreating array in 1st way: \", arr_1d)\n",
    "print(\"Type of array: \",type(arr_1d))\n",
    "\n",
    "\n",
    "## 2nd Way\n",
    "\n",
    "arr_1d_2nd_way = np.arange(0,11)\n",
    "print(\"\\nCreating array in 2nd way:\", arr_1d_2nd_way)\n",
    "print(\"Type of array: \",type(arr_1d_2nd_way))\n",
    "\n"
   ]
  },
  {
   "cell_type": "code",
   "execution_count": 5,
   "id": "1119a0c4",
   "metadata": {},
   "outputs": [
    {
     "name": "stdout",
     "output_type": "stream",
     "text": [
      "\n",
      "Creating arra3x3 array in 1st way: [[1 2 3]\n",
      " [4 5 6]\n",
      " [7 8 9]]\n",
      "Type of array:  <class 'numpy.ndarray'>\n",
      "\n",
      "Creating arra3x3 array in 2nd way: [[0.27326472 0.13821542 0.66106117]\n",
      " [0.2600116  0.11495161 0.68420047]\n",
      " [0.22262534 0.25174692 0.63385229]]\n",
      "Type of array:  <class 'numpy.ndarray'>\n",
      "[[0 0 0]\n",
      " [0 0 0]\n",
      " [0 0 0]]\n"
     ]
    }
   ],
   "source": [
    "## 2. Create a 3x3 NumPy array filled with zeros.\n",
    "\n",
    "## 1st Way\n",
    "arra3x3 = np.array([[1,2,3],\n",
    "                    [4,5,6],\n",
    "                    [7,8,9]])\n",
    "\n",
    "print(\"\\nCreating arra3x3 array in 1st way:\",arra3x3)\n",
    "print(\"Type of array: \",type(arra3x3))\n",
    "\n",
    "\n",
    "## 2nd Way\n",
    "\n",
    "arra3x3_2nd_way = np.random.rand(3,3)\n",
    "print(\"\\nCreating arra3x3 array in 2nd way:\",arra3x3_2nd_way)\n",
    "print(\"Type of array: \",type(arra3x3_2nd_way))\n",
    "\n",
    "\n",
    "\n",
    "## 3rd Way \n",
    "\n",
    "arra3x3_zeros  = np.zeros((3,3),int)\n",
    "print(arra3x3_zeros)\n"
   ]
  },
  {
   "cell_type": "code",
   "execution_count": 6,
   "id": "4cca5d8f",
   "metadata": {},
   "outputs": [
    {
     "name": "stdout",
     "output_type": "stream",
     "text": [
      "Creating arrayrandom array:  [77 19 77 73 22 11 35 82 77 31]\n"
     ]
    }
   ],
   "source": [
    "## 3. Create a NumPy array of 10 random integers between 1 and 100.\n",
    "\n",
    "arrayrandom = np.random.randint(1,100, size=10)\n",
    "print(\"Creating arrayrandom array: \",arrayrandom)\n"
   ]
  },
  {
   "cell_type": "code",
   "execution_count": 7,
   "id": "009487cd",
   "metadata": {},
   "outputs": [
    {
     "name": "stdout",
     "output_type": "stream",
     "text": [
      "Array Created below\n",
      " [[7 4 4]\n",
      " [7 3 3]\n",
      " [3 5 7]]\n",
      "\n",
      "Mean of the array is:  4.777777777777778\n",
      "Standard deviation of the array is:  1.6850834320114558\n"
     ]
    }
   ],
   "source": [
    "## 4. Find the mean and standard deviation of a NumPy array.\n",
    "\n",
    "arraytocheck = np.random.randint(3,10, size=(3,3))\n",
    "print(\"Array Created below\\n\",arraytocheck)\n",
    "\n",
    "## Mean\n",
    "mean_arraytocheck = np.mean(arraytocheck)\n",
    "print(\"\\nMean of the array is: \", mean_arraytocheck)\n",
    "\n",
    "## Standard deviation\n",
    "std_devi = np.std(arraytocheck)\n",
    "print(\"Standard deviation of the array is: \", std_devi)"
   ]
  },
  {
   "cell_type": "code",
   "execution_count": 8,
   "id": "8470f720",
   "metadata": {},
   "outputs": [
    {
     "name": "stdout",
     "output_type": "stream",
     "text": [
      "\n",
      "Type of the current provided is: <class 'list'>\n",
      "\n",
      "After converting from list to array:  [1 2 3 4 5]\n",
      "Type is list provided:  <class 'numpy.ndarray'>\n"
     ]
    }
   ],
   "source": [
    "## 5. Convert a list [1, 2, 3, 4] to a NumPy array.\n",
    "\n",
    "list= [1, 2, 3, 4, 5]\n",
    "print(\"\\nType of the current provided is:\", type(list))\n",
    "\n",
    "convert = np.array(list)\n",
    "print(\"\\nAfter converting from list to array: \",convert)\n",
    "print(\"Type is list provided: \",type(convert))"
   ]
  },
  {
   "cell_type": "code",
   "execution_count": 9,
   "id": "f53e33a3",
   "metadata": {},
   "outputs": [
    {
     "name": "stdout",
     "output_type": "stream",
     "text": [
      "[[1. 1. 1.]\n",
      " [1. 1. 1.]]\n",
      "[[0. 0. 0.]\n",
      " [0. 0. 0.]]\n"
     ]
    }
   ],
   "source": [
    "## 6. Create a 2D array with shape (2, 3) filled with ones.\n",
    "\n",
    "array = np.ones((2,3))\n",
    "print(array)\n",
    "\n",
    "array = np.zeros((2,3))\n",
    "print(array)\n",
    "\n"
   ]
  },
  {
   "cell_type": "code",
   "execution_count": 10,
   "id": "c3716e18",
   "metadata": {},
   "outputs": [
    {
     "name": "stdout",
     "output_type": "stream",
     "text": [
      "Finding the max and min from the below array\n",
      " [[1 2 3]\n",
      " [4 5 6]\n",
      " [7 8 9]]\n",
      "Max value is:  9\n",
      "Min value is:  1\n"
     ]
    }
   ],
   "source": [
    "## 7. Find the maximum and minimum values in a NumPy array.\n",
    "\n",
    "findmax = np.max(arra3x3)\n",
    "findmin = np.min(arra3x3)\n",
    "print(\"Finding the max and min from the below array\\n\",arra3x3)\n",
    "print(\"Max value is: \",findmax)\n",
    "print(\"Min value is: \",findmin)"
   ]
  },
  {
   "cell_type": "code",
   "execution_count": 11,
   "id": "c20f76eb",
   "metadata": {},
   "outputs": [
    {
     "name": "stdout",
     "output_type": "stream",
     "text": [
      "1d Aary is:  [1 2 3 4 5 6 7 8 9]\n",
      "After Reshaping the Array\n",
      " [[1 2 3]\n",
      " [4 5 6]\n",
      " [7 8 9]]\n"
     ]
    }
   ],
   "source": [
    " ## 9. Reshape a 1D array of 9 elements into a 3x3 2D array.\n",
    "\n",
    "arr_1d = np.arange(1,10)\n",
    "print(\"1d Aary is: \",arr_1d)\n",
    "\n",
    "reshaped = np.reshape (arr_1d,shape=(3,3))\n",
    "print(\"After Reshaping the Array\\n\",reshaped)\n"
   ]
  },
  {
   "cell_type": "code",
   "execution_count": 12,
   "id": "c2e3bbe0",
   "metadata": {},
   "outputs": [
    {
     "name": "stdout",
     "output_type": "stream",
     "text": [
      "1d Aary is:  [1 2 3 4 5 6 7 8 9]\n",
      "After Reshaping the Array\n",
      " [[1 2 3]\n",
      " [4 5 6]\n",
      " [7 8 9]]\n",
      "Shape of the Array (3, 3)\n",
      "Datatype of the Array int64\n"
     ]
    }
   ],
   "source": [
    "## 10.Get the shape and datatype of a NumPy array.\n",
    "\n",
    "arr_1d = np.arange(1,10)\n",
    "print(\"1d Aary is: \",arr_1d)\n",
    "\n",
    "reshaped = np.reshape (arr_1d,shape=(3,3))\n",
    "print(\"After Reshaping the Array\\n\",reshaped)\n",
    "\n",
    "print(\"Shape of the Array\",np.shape(reshaped))\n",
    "print(\"Datatype of the Array\",reshaped.dtype)\n",
    "\n"
   ]
  },
  {
   "cell_type": "code",
   "execution_count": 13,
   "id": "27be3d9f",
   "metadata": {},
   "outputs": [
    {
     "name": "stdout",
     "output_type": "stream",
     "text": [
      "First Array:\n",
      " [[5 4 4]\n",
      " [6 9 8]\n",
      " [5 6 1]]\n",
      "Second Array:\n",
      " [[14 12 14]\n",
      " [11 14 14]\n",
      " [14 16 13]]\n",
      "Addition of arrays are:\n",
      "  [[19 16 18]\n",
      " [17 23 22]\n",
      " [19 22 14]]\n"
     ]
    }
   ],
   "source": [
    "## 11. Perform element-wise addition of two NumPy arrays.\n",
    "\n",
    "add_array_1 = np.random.randint (1,10, size=(3,3))\n",
    "add_array_2 = np.random.randint (11,20,size=(3,3))\n",
    "\n",
    "addition = add_array_1 + add_array_2\n",
    "print(\"First Array:\\n\", add_array_1)\n",
    "print(\"Second Array:\\n\", add_array_2)\n",
    "print(\"Addition of arrays are:\\n \", addition) \n",
    "\n"
   ]
  },
  {
   "cell_type": "code",
   "execution_count": 14,
   "id": "d8d3fa79",
   "metadata": {},
   "outputs": [
    {
     "name": "stdout",
     "output_type": "stream",
     "text": [
      "Even Number in arrays are [ 2  4  6  8 10 12 14 16 18 20]\n"
     ]
    }
   ],
   "source": [
    "## 12. Create an array of even numbers from 2 to 20.\n",
    "\n",
    "arr1 = np.arange(2,21)\n",
    "\n",
    "even= arr1[arr1 % 2 ==0]\n",
    "print(\"Even Number in arrays are\", even)"
   ]
  }
 ],
 "metadata": {
  "kernelspec": {
   "display_name": "Python (venv)",
   "language": "python",
   "name": "venv"
  },
  "language_info": {
   "codemirror_mode": {
    "name": "ipython",
    "version": 3
   },
   "file_extension": ".py",
   "mimetype": "text/x-python",
   "name": "python",
   "nbconvert_exporter": "python",
   "pygments_lexer": "ipython3",
   "version": "3.13.0"
  }
 },
 "nbformat": 4,
 "nbformat_minor": 5
}

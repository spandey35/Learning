{
 "cells": [
  {
   "cell_type": "markdown",
   "id": "a462bd6c",
   "metadata": {},
   "source": [
    "## Phase -2 Numpy Array Oprations"
   ]
  },
  {
   "cell_type": "code",
   "execution_count": 13,
   "id": "53dd1a2e",
   "metadata": {},
   "outputs": [],
   "source": [
    "import numpy as np"
   ]
  },
  {
   "cell_type": "code",
   "execution_count": 14,
   "id": "fe4dff57",
   "metadata": {},
   "outputs": [
    {
     "name": "stdout",
     "output_type": "stream",
     "text": [
      "Basic Slicing: [3 4 5]\n",
      "With Steps Slicing: [3 5 7]\n",
      "Negavtive Slicing: 9\n"
     ]
    }
   ],
   "source": [
    "arr = np.array([1,2, 3 ,4 ,5 ,6, 7 ,8, 9, 10])\n",
    "print(\"Basic Slicing:\", arr[2:5])\n",
    "\n",
    "print(\"With Steps Slicing:\", arr[2:8:2])\n",
    "\n",
    "\n",
    "print(\"Negavtive Slicing:\", arr[-2])\n"
   ]
  },
  {
   "cell_type": "code",
   "execution_count": 15,
   "id": "9983af6e",
   "metadata": {},
   "outputs": [
    {
     "name": "stdout",
     "output_type": "stream",
     "text": [
      "Specific Elements: 6\n",
      "Entire Row:  [4 5 6]\n",
      "Entire Row:  [2 5 8]\n"
     ]
    }
   ],
   "source": [
    "arr_2d= np.array([[1,2,3],\n",
    "                 [4,5,6],\n",
    "                 [7,8,9]])\n",
    "\n",
    "\n",
    "\n",
    "print(\"Specific Elements:\",arr_2d[1,2])\n",
    "\n",
    "print(\"Entire Row: \", arr_2d[1])\n",
    "\n",
    "\n",
    "print(\"Entire Row: \", arr_2d[:,1])\n",
    "\n",
    "\n"
   ]
  },
  {
   "cell_type": "markdown",
   "id": "0be4480a",
   "metadata": {},
   "source": [
    "# Sorting"
   ]
  },
  {
   "cell_type": "code",
   "execution_count": 16,
   "id": "22ff3bfe",
   "metadata": {},
   "outputs": [
    {
     "name": "stdout",
     "output_type": "stream",
     "text": [
      "Sorted Array [  2   4  13  23 342]\n",
      "Sorted 2D Array by column [[1 1]\n",
      " [2 2]\n",
      " [3 3]]\n",
      "Sorted 2D Array by Rows [[1 3]\n",
      " [1 2]\n",
      " [2 3]]\n"
     ]
    }
   ],
   "source": [
    "unsorted = np.array([2,4,342,13,23])\n",
    "print(\"Sorted Array\", np.sort(unsorted))\n",
    "\n",
    "arr_2d_unsorted = np.array([[3,1],[1,2],[2,3]])\n",
    "print(\"Sorted 2D Array by column\", np.sort(arr_2d_unsorted,axis=0))\n",
    "print(\"Sorted 2D Array by Rows\", np.sort(arr_2d_unsorted,axis=1))"
   ]
  },
  {
   "cell_type": "markdown",
   "id": "a6f0589e",
   "metadata": {},
   "source": [
    "# Filterning "
   ]
  },
  {
   "cell_type": "code",
   "execution_count": 17,
   "id": "558b1b8a",
   "metadata": {},
   "outputs": [
    {
     "name": "stdout",
     "output_type": "stream",
     "text": [
      "Even numbers:  [ 2  4  6  8 10]\n"
     ]
    }
   ],
   "source": [
    "numbers = np.array([1,2,3,4,5,6,7,8,9,10])\n",
    "\n",
    "even_number = numbers[numbers % 2 == 0]\n",
    "print(\"Even numbers: \", even_number)\n",
    "\n"
   ]
  },
  {
   "cell_type": "markdown",
   "id": "faa75c36",
   "metadata": {},
   "source": [
    "## Filter with Masks"
   ]
  },
  {
   "cell_type": "code",
   "execution_count": 18,
   "id": "3958e72b",
   "metadata": {},
   "outputs": [
    {
     "name": "stdout",
     "output_type": "stream",
     "text": [
      "Number greater then 5 are:  [ 6  7  8  9 10]\n"
     ]
    }
   ],
   "source": [
    "mask = numbers > 5\n",
    "print(\"Number greater then 5 are: \",numbers[mask] )"
   ]
  },
  {
   "cell_type": "markdown",
   "id": "0047cea0",
   "metadata": {},
   "source": [
    "## Fancy Indexing VS np.where()"
   ]
  },
  {
   "cell_type": "markdown",
   "id": "f6f9b0e3",
   "metadata": {},
   "source": []
  },
  {
   "cell_type": "code",
   "execution_count": 19,
   "id": "2ae6de35",
   "metadata": {},
   "outputs": [
    {
     "name": "stdout",
     "output_type": "stream",
     "text": [
      "[1 2 3 4 5]\n",
      "Where result:  [ 6  7  8  9 10]\n"
     ]
    }
   ],
   "source": [
    "indices = [0,1,2,3,4]\n",
    "print(numbers[indices])\n",
    "\n",
    "where_result = np.where(numbers > 5)\n",
    "print(\"Where result: \", numbers[where_result])"
   ]
  },
  {
   "cell_type": "markdown",
   "id": "a23b4962",
   "metadata": {},
   "source": [
    "## Condition Array"
   ]
  },
  {
   "cell_type": "code",
   "execution_count": 20,
   "id": "4ac76bce",
   "metadata": {},
   "outputs": [
    {
     "name": "stdout",
     "output_type": "stream",
     "text": [
      "['False' 'False' 'False' 'False' 'False' 'True' 'True' 'True' 'True'\n",
      " 'True']\n"
     ]
    }
   ],
   "source": [
    "condition_array = np.where(numbers > 5 ,\"True\" , \"False\" )\n",
    "print(condition_array)\n"
   ]
  },
  {
   "cell_type": "markdown",
   "id": "352ad711",
   "metadata": {},
   "source": [
    "## Adding and Removing Data"
   ]
  },
  {
   "cell_type": "code",
   "execution_count": 21,
   "id": "25616fe5",
   "metadata": {},
   "outputs": [
    {
     "name": "stdout",
     "output_type": "stream",
     "text": [
      "[1 2 3 4 5 6]\n"
     ]
    }
   ],
   "source": [
    "arr1 = np.array ([1,2,3]\n",
    "                 )\n",
    "arr2 = np.array ([4,5,6]\n",
    "                 )\n",
    "\n",
    "combined =np.concatenate(( arr1 , arr2))\n",
    "print(combined)"
   ]
  },
  {
   "cell_type": "markdown",
   "id": "f1561c71",
   "metadata": {},
   "source": [
    "## Array Compatibilty"
   ]
  },
  {
   "cell_type": "code",
   "execution_count": 22,
   "id": "073b141f",
   "metadata": {},
   "outputs": [
    {
     "name": "stdout",
     "output_type": "stream",
     "text": [
      "Compatibility Shape True\n"
     ]
    }
   ],
   "source": [
    "a = np.array ([1 , 2, 3])\n",
    "b = np.array ([4 , 5, 6])\n",
    "c = np.array ([7 , 8, 9])\n",
    "\n",
    "print(\"Compatibility Shape\" , a.shape==b.shape)"
   ]
  },
  {
   "cell_type": "markdown",
   "id": "95409b18",
   "metadata": {},
   "source": [
    "## Dont Know what to Give the Name "
   ]
  },
  {
   "cell_type": "code",
   "execution_count": 23,
   "id": "b88cbbc5",
   "metadata": {},
   "outputs": [
    {
     "name": "stdout",
     "output_type": "stream",
     "text": [
      "Original\n",
      " [[1 2]\n",
      " [3 4]] \n",
      "New\n",
      " [[5 6]] \n",
      "Wth New rows\n",
      " [[1 2]\n",
      " [3 4]\n",
      " [5 6]]\n",
      "with col [[1 2 7]\n",
      " [3 4 8]]\n"
     ]
    }
   ],
   "source": [
    "orginial = np.array([[1,2],[3,4]])\n",
    "new_rows = np.array([[5,6]])\n",
    "\n",
    "with_new_rows = np.vstack((orginial,new_rows))\n",
    "print(\"Original\\n\",orginial,\"\\nNew\\n\",new_rows,\"\\nWth New rows\\n\",with_new_rows)\n",
    "\n",
    "new_col = np.array([[7] ,  [8]])\n",
    "with_new_col= np.hstack((orginial , new_col))\n",
    "print(\"with col\", with_new_col)"
   ]
  },
  {
   "cell_type": "markdown",
   "id": "3583e512",
   "metadata": {},
   "source": [
    "## Deletation"
   ]
  },
  {
   "cell_type": "code",
   "execution_count": 24,
   "id": "a5a7c4b3",
   "metadata": {},
   "outputs": [
    {
     "name": "stdout",
     "output_type": "stream",
     "text": [
      "Array after deletion [1 3 4]\n"
     ]
    }
   ],
   "source": [
    "arr = np.array([1, 2, 3, 4])\n",
    "deleted = np.delete(arr,1)\n",
    "print(\"Array after deletion\",deleted)\n",
    "\n"
   ]
  },
  {
   "cell_type": "markdown",
   "id": "ad1882ca",
   "metadata": {},
   "source": []
  }
 ],
 "metadata": {
  "kernelspec": {
   "display_name": "Python (venv)",
   "language": "python",
   "name": "venv"
  },
  "language_info": {
   "codemirror_mode": {
    "name": "ipython",
    "version": 3
   },
   "file_extension": ".py",
   "mimetype": "text/x-python",
   "name": "python",
   "nbconvert_exporter": "python",
   "pygments_lexer": "ipython3",
   "version": "3.13.0"
  }
 },
 "nbformat": 4,
 "nbformat_minor": 5
}

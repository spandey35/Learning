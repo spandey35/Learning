{
 "cells": [
  {
   "cell_type": "markdown",
   "id": "7b2d737c",
   "metadata": {},
   "source": [
    "## Practice Day 4  Intermidate Level   Date: 26-06-2025"
   ]
  },
  {
   "cell_type": "code",
   "execution_count": 2,
   "id": "7563375e",
   "metadata": {},
   "outputs": [
    {
     "name": "stdout",
     "output_type": "stream",
     "text": [
      "Original labels: ['cat' 'dog' 'dog' 'fish']\n",
      "One-hot encoded:\n",
      " [[1 0 0]\n",
      " [0 1 0]\n",
      " [0 1 0]\n",
      " [0 0 1]]\n"
     ]
    }
   ],
   "source": [
    "## 1. \n",
    "\n",
    "import numpy as np\n",
    "\n",
    "# Input data\n",
    "animals = np.array([\"cat\", \"dog\", \"dog\", \"fish\"])\n",
    "\n",
    "# Step 1: Find unique categories\n",
    "unique_animals = np.unique(animals)\n",
    "\n",
    "# Step 2: Create a mapping from category to index\n",
    "animal_to_index = {animal: idx for idx, animal in enumerate(unique_animals)}\n",
    "\n",
    "# Step 3: Initialize one-hot encoded matrix\n",
    "one_hot = np.zeros((animals.shape[0], unique_animals.shape[0]), dtype=int)\n",
    "\n",
    "# Step 4: Set the appropriate position to 1\n",
    "for i, animal in enumerate(animals):\n",
    "    index = animal_to_index[animal]\n",
    "    one_hot[i, index] = 1\n",
    "\n",
    "print(\"Original labels:\", animals)\n",
    "print(\"One-hot encoded:\\n\", one_hot)\n"
   ]
  },
  {
   "cell_type": "code",
   "execution_count": 3,
   "id": "b1a774a8",
   "metadata": {},
   "outputs": [
    {
     "name": "stdout",
     "output_type": "stream",
     "text": [
      "The Dot product of [1 2 3 4 5 6 7] and [ 8  9 10 11 12 13 14] is: 336\n",
      "The Cross product of first three values for [1 2 3 4 5 6 7] and [ 8  9 10 11 12 13 14] is: [-7 14 -7]\n"
     ]
    }
   ],
   "source": [
    "## 2. Compute dot product and cross product of two vectors.\n",
    "\n",
    "vect_1 = np.array([1,2,3,4,5,6,7])\n",
    "vect_2 = np.array([8,9,10,11,12,13,14])\n",
    "\n",
    "dot = np.dot(vect_1 , vect_2)\n",
    "print(f\"The Dot product of {vect_1} and {vect_2} is:\",dot)\n",
    "\n",
    "cross = np.cross(vect_1[:3] , vect_2[:3])\n",
    "print(f\"The Cross product of first three values for {vect_1} and {vect_2} is:\",cross)"
   ]
  },
  {
   "cell_type": "code",
   "execution_count": 4,
   "id": "b4b18095",
   "metadata": {},
   "outputs": [
    {
     "name": "stdout",
     "output_type": "stream",
     "text": [
      "The determinant of the [[19 10 15]\n",
      " [14 14 14]\n",
      " [12 12 10]] is: -252.00000000000003\n"
     ]
    }
   ],
   "source": [
    "## 3. Find the determinant of a 2D square matrix.\n",
    "\n",
    "arr_1 = np.random.randint(10,20, size=(3,3))\n",
    "\n",
    "deter = np.linalg.det(arr_1)\n",
    "print(f\"The determinant of the {arr_1} is:\", deter)"
   ]
  },
  {
   "cell_type": "code",
   "execution_count": 5,
   "id": "5b46704b",
   "metadata": {},
   "outputs": [
    {
     "name": "stdout",
     "output_type": "stream",
     "text": [
      "['2025-01' '2025-02' '2025-03' '2025-04' '2025-05' '2025-06' '2025-07'\n",
      " '2025-08' '2025-09' '2025-10' '2025-11']\n"
     ]
    }
   ],
   "source": [
    "## 4. Create an array of dates using `np.datetime64`.\n",
    "\n",
    "arr_date = np.arange('2025-01','2025-12',dtype='datetime64[M]')\n",
    "print(arr_date)"
   ]
  },
  {
   "cell_type": "code",
   "execution_count": 32,
   "id": "3cd654ef",
   "metadata": {},
   "outputs": [
    {
     "name": "stdout",
     "output_type": "stream",
     "text": [
      "With constant\n",
      " [[ 0  0  0  0]\n",
      " [ 0 13 12  0]\n",
      " [ 0 17 17  0]\n",
      " [ 0  0  0  0]]\n",
      "With edge\n",
      " [[13 13 13 12 12 12]\n",
      " [13 13 13 12 12 12]\n",
      " [13 13 13 12 12 12]\n",
      " [17 17 17 17 17 17]\n",
      " [17 17 17 17 17 17]\n",
      " [17 17 17 17 17 17]]\n"
     ]
    }
   ],
   "source": [
    "## 5. Add padding of zeros around a 2D array.\n",
    "\n",
    "arr = np.random.randint(10,20,size=(2,2))\n",
    "\n",
    "pad = np.pad(arr ,pad_width=1,mode=\"constant\",constant_values=0)\n",
    "print(\"With constant\\n\",pad)\n",
    "\n",
    "pad1 = np.pad(arr, pad_width=((2, 2), (2, 2)), mode='edge')\n",
    "print(\"With edge\\n\",pad1)\n"
   ]
  },
  {
   "cell_type": "code",
   "execution_count": 33,
   "id": "63cf92ef",
   "metadata": {},
   "outputs": [
    {
     "name": "stdout",
     "output_type": "stream",
     "text": [
      "(array([[1, 2],\n",
      "       [1, 2]]), array([[2, 2],\n",
      "       [4, 4]]))\n"
     ]
    }
   ],
   "source": [
    "## 6. Use `meshgrid` to create a coordinate matrix.\n",
    "\n",
    "a = np.array([1,2])\n",
    "b = np.array([2,4])\n",
    "\n",
    "c = np.meshgrid(a,b)\n",
    "print(c)"
   ]
  },
  {
   "cell_type": "code",
   "execution_count": null,
   "id": "6622e392",
   "metadata": {},
   "outputs": [
    {
     "name": "stdout",
     "output_type": "stream",
     "text": [
      "Value 1 appears 1 times\n",
      "Value 2 appears 3 times\n",
      "Value 3 appears 3 times\n",
      "Value 5 appears 4 times\n"
     ]
    }
   ],
   "source": [
    "## 7. Create a frequency table from a 1D NumPy array.\n",
    "\n",
    "import numpy as np\n",
    "\n",
    "# Sample 1D array\n",
    "arr = np.array([2, 3, 2, 5, 3, 2, 1, 5, 5, 5, 3])\n",
    "\n",
    "# Get unique values and their counts\n",
    "values, counts = np.unique(arr, return_counts=True)\n",
    "\n",
    "# Display frequency table\n",
    "for v, c in zip(values, counts):\n",
    "    print(f\"Value {v} appears {c} times\")\n"
   ]
  }
 ],
 "metadata": {
  "kernelspec": {
   "display_name": "Python (venv)",
   "language": "python",
   "name": "venv"
  },
  "language_info": {
   "codemirror_mode": {
    "name": "ipython",
    "version": 3
   },
   "file_extension": ".py",
   "mimetype": "text/x-python",
   "name": "python",
   "nbconvert_exporter": "python",
   "pygments_lexer": "ipython3",
   "version": "3.13.0"
  }
 },
 "nbformat": 4,
 "nbformat_minor": 5
}

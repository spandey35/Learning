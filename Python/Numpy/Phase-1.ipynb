{
 "cells": [
  {
   "cell_type": "markdown",
   "id": "25114ff3",
   "metadata": {},
   "source": [
    "## Numpy Basic"
   ]
  },
  {
   "cell_type": "code",
   "execution_count": 1,
   "id": "7e17ee3d",
   "metadata": {},
   "outputs": [],
   "source": [
    "import numpy as np"
   ]
  },
  {
   "cell_type": "markdown",
   "id": "af5696ac",
   "metadata": {},
   "source": [
    "## Creating Array from list"
   ]
  },
  {
   "cell_type": "code",
   "execution_count": 2,
   "id": "8c0c1e95",
   "metadata": {},
   "outputs": [
    {
     "name": "stdout",
     "output_type": "stream",
     "text": [
      "1D arry [1 1 2 4]\n",
      "2D arry [[1 2 3]\n",
      " [4 5 6]]\n"
     ]
    }
   ],
   "source": [
    "arr_1 = np.array([1,1,2,4])\n",
    "print(\"1D arry\",arr_1)\n",
    "\n",
    "arr_2 = np.array ([[1,2,3] , [4,5,6]])\n",
    "print(\"2D arry\",arr_2)"
   ]
  },
  {
   "cell_type": "markdown",
   "id": "e38c449f",
   "metadata": {},
   "source": [
    "## List Vs numpy Aarray"
   ]
  },
  {
   "cell_type": "code",
   "execution_count": 3,
   "id": "18f9d466",
   "metadata": {},
   "outputs": [
    {
     "name": "stdout",
     "output_type": "stream",
     "text": [
      "Python list Multiplication [1, 2, 3, 1, 2, 3]\n",
      "Numpy Array Multiplication [2 4 6 8]\n",
      "\n",
      " List opration time:  0.005951642990112305\n",
      "\n",
      " Numpy opration time:  0.0006995201110839844\n"
     ]
    }
   ],
   "source": [
    "py_list = [1,2,3]\n",
    "print(\"Python list Multiplication\", py_list * 2)\n",
    "\n",
    "\n",
    "np_array = np.array([1,2,3,4])    ## Element wise Multiplication\n",
    "print(\"Numpy Array Multiplication\", np_array * 2)\n",
    "\n",
    "import time\n",
    "start= time.time()\n",
    "py_list = [i*2 for i in range(100000)]\n",
    "print(\"\\n List opration time: \" , time.time()- start)\n",
    "\n",
    "start= time.time()\n",
    "np_array= np.arange(100000 *2 )\n",
    "print(\"\\n Numpy opration time: \" , time.time()- start)\n",
    "\n",
    "\n"
   ]
  },
  {
   "cell_type": "markdown",
   "id": "d6d95a75",
   "metadata": {},
   "source": [
    "## Creating Array From Scractch"
   ]
  },
  {
   "cell_type": "code",
   "execution_count": 4,
   "id": "13a372d7",
   "metadata": {},
   "outputs": [
    {
     "name": "stdout",
     "output_type": "stream",
     "text": [
      "zeros array: \n",
      " [[0. 0. 0. 0.]\n",
      " [0. 0. 0. 0.]\n",
      " [0. 0. 0. 0.]]\n",
      "Ones array: \n",
      " [[1. 1. 1. 1.]\n",
      " [1. 1. 1. 1.]\n",
      " [1. 1. 1. 1.]]\n",
      "full array: \n",
      " [[7 7]\n",
      " [7 7]]\n",
      "Random array: \n",
      " [[0.60302272 0.25818108 0.4743599  0.50290706]\n",
      " [0.77884362 0.32098761 0.49376888 0.35881866]]\n",
      "sequence array: \n",
      " [0 2 4 6 8]\n"
     ]
    }
   ],
   "source": [
    "zeros =  np.zeros((3,4))\n",
    "print(\"zeros array: \\n\",zeros)\n",
    "\n",
    "ones = np.ones((3,4))\n",
    "print(\"Ones array: \\n\",ones)\n",
    "\n",
    "full = np.full((2,2),7)\n",
    "print(\"full array: \\n\",full)\n",
    "\n",
    "\n",
    "\n",
    "random = np.random.random((2,4))\n",
    "print(\"Random array: \\n\",random)\n",
    "\n",
    "sequence = np.arange(0,10,2)\n",
    "print(\"sequence array: \\n\",sequence)"
   ]
  },
  {
   "cell_type": "markdown",
   "id": "b199db0e",
   "metadata": {},
   "source": [
    "## Vectos , Matrix And Tensor "
   ]
  },
  {
   "cell_type": "code",
   "execution_count": 5,
   "id": "5337e97c",
   "metadata": {},
   "outputs": [
    {
     "name": "stdout",
     "output_type": "stream",
     "text": [
      "Vector:  [1 2 3]\n",
      "Matrix:  [[1 2 3]\n",
      " [4 5 6]]\n",
      "Tencor:  [[[1 2]\n",
      "  [3 5]]\n",
      "\n",
      " [[5 6]\n",
      "  [6 8]]]\n"
     ]
    }
   ],
   "source": [
    "vector = np.array([1,2,3])\n",
    "print(\"Vector: \", vector)\n",
    "\n",
    "matrix = np.array([[1,2,3],\n",
    "                   [4,5,6]])\n",
    "\n",
    "print(\"Matrix: \",matrix)\n",
    "\n",
    "\n",
    "Tensor = np.array([[[1,2],[3,5]]\n",
    "                   ,[[5,6],[6,8]]])\n",
    "print(\"Tencor: \",Tensor)\n"
   ]
  },
  {
   "cell_type": "markdown",
   "id": "04205429",
   "metadata": {},
   "source": [
    "## Array Properties"
   ]
  },
  {
   "cell_type": "code",
   "execution_count": 6,
   "id": "a6e85e19",
   "metadata": {},
   "outputs": [
    {
     "name": "stdout",
     "output_type": "stream",
     "text": [
      "Shape of array: (2, 3)\n",
      "Dimensions of array: 2\n",
      "Size of array: 6\n",
      "Data Type: <U21\n"
     ]
    }
   ],
   "source": [
    "arr = np.array([[1,2,3],\n",
    "                [4,5,'Suraj']])\n",
    "\n",
    "print(\"Shape of array:\",arr.shape)\n",
    "print(\"Dimensions of array:\",arr.ndim)\n",
    "print(\"Size of array:\",arr.size)\n",
    "print(\"Data Type:\",arr.dtype)\n",
    "\n"
   ]
  },
  {
   "cell_type": "markdown",
   "id": "a8896e2c",
   "metadata": {},
   "source": [
    "## Array Reshaping "
   ]
  },
  {
   "cell_type": "code",
   "execution_count": 7,
   "id": "341008d8",
   "metadata": {},
   "outputs": [
    {
     "name": "stdout",
     "output_type": "stream",
     "text": [
      "Orginal Array:  [ 0  1  2  3  4  5  6  7  8  9 10 11]\n",
      "reshaped Array:  [[ 0  1  2  3]\n",
      " [ 4  5  6  7]\n",
      " [ 8  9 10 11]]\n",
      "flattend Array [ 0  1  2  3  4  5  6  7  8  9 10 11]\n",
      "reveled Array [ 0  1  2  3  4  5  6  7  8  9 10 11]\n",
      "transpoased Array [[ 0  4  8]\n",
      " [ 1  5  9]\n",
      " [ 2  6 10]\n",
      " [ 3  7 11]]\n"
     ]
    }
   ],
   "source": [
    "arr = np.arange(12)\n",
    "print(\"Orginal Array: \", arr)\n",
    "\n",
    "\n",
    "reshaped= arr.reshape((3,4))\n",
    "print(\"reshaped Array: \", reshaped)\n",
    "\n",
    "flattend = reshaped.flatten()\n",
    "print(\"flattend Array\", flattend)\n",
    "\n",
    "\n",
    "reveled= reshaped.ravel()   #### Return View,  Instead of copy \n",
    "print(\"reveled Array\", reveled)\n",
    "\n",
    "\n",
    "## Transpose\n",
    "transpoase = reshaped.T\n",
    "print(\"transpoased Array\", transpoase)\n"
   ]
  }
 ],
 "metadata": {
  "kernelspec": {
   "display_name": "Python (venv)",
   "language": "python",
   "name": "venv"
  },
  "language_info": {
   "codemirror_mode": {
    "name": "ipython",
    "version": 3
   },
   "file_extension": ".py",
   "mimetype": "text/x-python",
   "name": "python",
   "nbconvert_exporter": "python",
   "pygments_lexer": "ipython3",
   "version": "3.13.0"
  }
 },
 "nbformat": 4,
 "nbformat_minor": 5
}

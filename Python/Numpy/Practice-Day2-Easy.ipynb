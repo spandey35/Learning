{
 "cells": [
  {
   "cell_type": "markdown",
   "id": "ae9d6fcb",
   "metadata": {},
   "source": [
    "## Practice Day -2  (Easy Questions) --> Date: 24-6-2025"
   ]
  },
  {
   "cell_type": "code",
   "execution_count": 87,
   "id": "acf960fd",
   "metadata": {},
   "outputs": [
    {
     "name": "stdout",
     "output_type": "stream",
     "text": [
      "Array of 5 random integers between 10 and 50 [12 17 18 16 17]\n"
     ]
    }
   ],
   "source": [
    "## 1. Generate an array of 5 random integers between 10 and 50. (Date: 24-6-2025)\n",
    "\n",
    "import numpy as np\n",
    "\n",
    "array1 = np.random.randint(10,20 ,size=5)\n",
    "print(\"Array of 5 random integers between 10 and 50\",array1)"
   ]
  },
  {
   "cell_type": "code",
   "execution_count": 88,
   "id": "8bfa5513",
   "metadata": {},
   "outputs": [
    {
     "name": "stdout",
     "output_type": "stream",
     "text": [
      "[[0.9491066  0.15240454 0.993014   0.64368141]\n",
      " [0.96049881 0.45839786 0.55341483 0.31021599]\n",
      " [0.47999258 0.74773116 0.7168159  0.13447805]\n",
      " [0.8390646  0.99711942 0.8523057  0.67859602]]\n"
     ]
    }
   ],
   "source": [
    "## 2. Create an identity matrix of size 4x4.\n",
    "\n",
    "array2 = np.random.rand(4,4)\n",
    "print(array2)"
   ]
  },
  {
   "cell_type": "code",
   "execution_count": 89,
   "id": "d2bccdf6",
   "metadata": {},
   "outputs": [
    {
     "name": "stdout",
     "output_type": "stream",
     "text": [
      "sum of all elements in a NumPy array is: [3.22866259 2.35565299 3.11555043 1.76697147]\n"
     ]
    }
   ],
   "source": [
    "## 3. Find the sum of all elements in a NumPy array.\n",
    "\n",
    "sumaaray = sum(array2)\n",
    "print(\"sum of all elements in a NumPy array is:\",sumaaray)   ## sum function will return the sum of the columns"
   ]
  },
  {
   "cell_type": "code",
   "execution_count": 90,
   "id": "1676d36a",
   "metadata": {},
   "outputs": [
    {
     "name": "stdout",
     "output_type": "stream",
     "text": [
      "[0. 0. 0. 0. 0. 0. 0. 0. 0. 0.]\n",
      "[1. 1. 1. 1. 1. 0. 0. 0. 0. 0.]\n"
     ]
    }
   ],
   "source": [
    "## 4. Create an array of 10 zeros and change the fifth value to 1.\n",
    "\n",
    "new_array = np.zeros((10))\n",
    "print(new_array)\n",
    "\n",
    "new_array[:5]=1\n",
    "print(new_array)"
   ]
  },
  {
   "cell_type": "code",
   "execution_count": 91,
   "id": "861b9a57",
   "metadata": {},
   "outputs": [
    {
     "name": "stdout",
     "output_type": "stream",
     "text": [
      "Maximum number of array2 is:  18\n",
      "Maximum number of array2 is:  12\n"
     ]
    }
   ],
   "source": [
    "## 5. Get the maximum and minimum values from a NumPy array.\n",
    "\n",
    "print(\"Maximum number of array2 is: \",max(array1))\n",
    "print(\"Maximum number of array2 is: \",min(array1))"
   ]
  },
  {
   "cell_type": "code",
   "execution_count": 92,
   "id": "5ab39547",
   "metadata": {},
   "outputs": [
    {
     "name": "stdout",
     "output_type": "stream",
     "text": [
      "Before [12 17 18 16 17]\n",
      "After  [17 16 18 17 12]\n"
     ]
    }
   ],
   "source": [
    "## 5. Reverse a NumPy array using slicing.\n",
    "\n",
    "print(\"Before\",array1)\n",
    "reverse = array1[::-1]\n",
    "print(\"After \",reverse)"
   ]
  },
  {
   "cell_type": "code",
   "execution_count": 93,
   "id": "b161c6c4",
   "metadata": {},
   "outputs": [
    {
     "name": "stdout",
     "output_type": "stream",
     "text": [
      "arange spaced array between 0 and 1 with 10 elements. [1 3 5 7 9]\n",
      "linearly spaced array between 0 and 1 with 10 elements.\n",
      " [ 0.          0.20408163  0.40816327  0.6122449   0.81632653  1.02040816\n",
      "  1.2244898   1.42857143  1.63265306  1.83673469  2.04081633  2.24489796\n",
      "  2.44897959  2.65306122  2.85714286  3.06122449  3.26530612  3.46938776\n",
      "  3.67346939  3.87755102  4.08163265  4.28571429  4.48979592  4.69387755\n",
      "  4.89795918  5.10204082  5.30612245  5.51020408  5.71428571  5.91836735\n",
      "  6.12244898  6.32653061  6.53061224  6.73469388  6.93877551  7.14285714\n",
      "  7.34693878  7.55102041  7.75510204  7.95918367  8.16326531  8.36734694\n",
      "  8.57142857  8.7755102   8.97959184  9.18367347  9.3877551   9.59183673\n",
      "  9.79591837 10.        ]\n"
     ]
    }
   ],
   "source": [
    "## 6. Generate a linearly spaced array between 0 and 1 with 10 elements.\n",
    "\n",
    "spaced = np.arange(1,11,2)\n",
    "print(\"arange spaced array between 0 and 1 with 10 elements.\",spaced)\n",
    "\n",
    "spaced = np.linspace(0,10)\n",
    "print(\"linearly spaced array between 0 and 1 with 10 elements.\\n\",spaced)  ### need to check this. "
   ]
  },
  {
   "cell_type": "code",
   "execution_count": 94,
   "metadata": {},
   "outputs": [
    {
     "name": "stdout",
     "output_type": "stream",
     "text": [
      "Type [1, 2, 3, 4, 5] is: <class 'list'>\n",
      "Type [1 2 3 4 5] is: <class 'numpy.ndarray'>\n"
     ]
    }
   ],
   "source": [
    "## 7. Convert a Python list to a NumPy array.\n",
    "\n",
    "list = [1, 2, 3, 4, 5]\n",
    "print(f\"Type {list} is:\",type(list))\n",
    "\n",
    "convert = np.array(list)\n",
    "print(f\"Type {convert} is:\",type(convert))\n",
    "\n"
   ]
  },
  {
   "cell_type": "code",
   "execution_count": 95,
   "id": "4a3fe386",
   "metadata": {},
   "outputs": [
    {
     "name": "stdout",
     "output_type": "stream",
     "text": [
      "The shape of [1 2 3 4 5] is:  (5,)\n",
      "The Datatype of [1 2 3 4 5] is:  int64\n"
     ]
    }
   ],
   "source": [
    "## 8. Find the shape and data type of a NumPy array.\n",
    "\n",
    "print(f\"The shape of {convert} is: \",np.shape(convert))\n",
    "print(f\"The Datatype of {convert} is: \",convert.dtype)"
   ]
  },
  {
   "cell_type": "code",
   "execution_count": 96,
   "id": "4af4d296",
   "metadata": {},
   "outputs": [
    {
     "name": "stdout",
     "output_type": "stream",
     "text": [
      " 3x3 matrix with values from 1 to 9 is \n",
      ". [[7 6 3]\n",
      " [4 6 4]\n",
      " [1 1 2]]\n"
     ]
    }
   ],
   "source": [
    "## 9. Create a 3x3 matrix with values from 1 to 9.\n",
    "\n",
    "matrix = np.random.randint(1,10,size=(3,3)\n",
    "                           )\n",
    "\n",
    "print(\" 3x3 matrix with values from 1 to 9 is \\n.\",matrix)"
   ]
  },
  {
   "cell_type": "code",
   "execution_count": 97,
   "id": "da0fd8a1",
   "metadata": {},
   "outputs": [
    {
     "name": "stdout",
     "output_type": "stream",
     "text": [
      "The Orginial Maxtrix is\n",
      " [[7 6 3]\n",
      " [4 6 4]\n",
      " [1 1 2]]\n",
      "The sorted Maxtrix Array columns wise as we have axis=0 is below\n",
      "  [[1 1 2]\n",
      " [4 6 3]\n",
      " [7 6 4]]\n",
      "The sorted Maxtrix Array rows wise as we have axis=1 is below\n",
      "  [[3 6 7]\n",
      " [4 4 6]\n",
      " [1 1 2]]\n"
     ]
    }
   ],
   "source": [
    "## 10. Sort a NumPy array in ascending order.\n",
    "print(\"The Orginial Maxtrix is\\n\",matrix)\n",
    "print(\"The sorted Maxtrix Array columns wise as we have axis=0 is below\\n \",np.sort(matrix,axis=0))\n",
    "print(\"The sorted Maxtrix Array rows wise as we have axis=1 is below\\n \",np.sort(matrix,axis=1))"
   ]
  },
  {
   "cell_type": "code",
   "execution_count": 98,
   "id": "5a46246c",
   "metadata": {},
   "outputs": [
    {
     "name": "stdout",
     "output_type": "stream",
     "text": [
      "Matrix:\n",
      " [[6 5 1]\n",
      " [1 9 6]\n",
      " [8 6 6]]\n",
      "Diagonal elements: [6 9 6]\n"
     ]
    }
   ],
   "source": [
    "## 11. Extract the diagonal elements from a 2D array.\n",
    "\n",
    "\n",
    "\n",
    "matrix = np.random.randint(1, 10, size=(3, 3))\n",
    "diagonal_elements = np.diagonal(matrix)\n",
    "print(\"Matrix:\\n\", matrix)\n",
    "print(\"Diagonal elements:\", diagonal_elements)\n"
   ]
  },
  {
   "cell_type": "code",
   "execution_count": 99,
   "id": "1774484d",
   "metadata": {},
   "outputs": [
    {
     "name": "stdout",
     "output_type": "stream",
     "text": [
      "[[11  5 14]\n",
      " [ 7 16  5]\n",
      " [ 5  4 16]]\n",
      "[[1 5 1]\n",
      " [7 1 5]\n",
      " [5 4 1]]\n"
     ]
    }
   ],
   "source": [
    "## 12. Check whether each element in an array is greater than 10.\n",
    "\n",
    "matrix = np.random.randint(1, 20, size=(3, 3))\n",
    "print(matrix)\n",
    "\n",
    "matrix[matrix > 10] = 1\n",
    "\n",
    "print(matrix)\n",
    "\n",
    "\n"
   ]
  },
  {
   "cell_type": "code",
   "execution_count": 100,
   "id": "20ce7c4a",
   "metadata": {},
   "outputs": [
    {
     "name": "stdout",
     "output_type": "stream",
     "text": [
      "Matrix:\n",
      " [[1 5 1]\n",
      " [7 1 5]\n",
      " [5 4 1]]\n",
      "The mean of the matrix is: 3.3333333333333335\n",
      "The standard deviation of the matrix is: 2.211083193570267\n"
     ]
    }
   ],
   "source": [
    "## 13. Find the standard deviation and mean of a NumPy array.\n",
    "print(\"Matrix:\\n\", matrix)\n",
    "print(\"The mean of the matrix is:\" ,np.mean(matrix))\n",
    "print(\"The standard deviation of the matrix is:\" ,np.std(matrix))"
   ]
  },
  {
   "cell_type": "code",
   "execution_count": 101,
   "id": "222a4e7e",
   "metadata": {},
   "outputs": [
    {
     "name": "stdout",
     "output_type": "stream",
     "text": [
      "original matrix is:  [ 1 -1  2 -2  3 -3  4 -4]\n",
      "Changed matriz is:  [1 0 2 0 3 0 4 0]\n"
     ]
    }
   ],
   "source": [
    "## 14. Replace all negative values in a NumPy array with zero.\n",
    "\n",
    "zeros = np.array([1, -1, 2 ,-2, 3, -3, 4, -4])\n",
    "\n",
    "print(\"original matrix is: \",zeros)\n",
    "zeros[zeros < 1]=0\n",
    "print(\"Changed matriz is: \",zeros)"
   ]
  },
  {
   "cell_type": "code",
   "execution_count": 102,
   "id": "1363beb6",
   "metadata": {},
   "outputs": [
    {
     "name": "stdout",
     "output_type": "stream",
     "text": [
      "[[1 2 3]\n",
      " [1 2 3]\n",
      " [1 2 3]]\n"
     ]
    }
   ],
   "source": [
    "## 15 . Repeat an array of [1, 2, 3] three times.\n",
    "\n",
    "repeat = np.tile([1,2,3],(3,1))\n",
    "\n",
    "print(repeat)"
   ]
  },
  {
   "cell_type": "code",
   "execution_count": 103,
   "id": "45f6ff2a",
   "metadata": {},
   "outputs": [
    {
     "name": "stdout",
     "output_type": "stream",
     "text": [
      "[ 1 -1  2 -2  3 -3  4 -4  5]\n",
      "[array([ 1, -1,  2]), array([-2,  3, -3]), array([ 4, -4,  5])]\n"
     ]
    }
   ],
   "source": [
    "## 16. Split a 1D array into 3 equal parts.\n",
    "\n",
    "\n",
    "zeros = np.array([1, -1, 2 ,-2, 3, -3, 4, -4,5])\n",
    "print(zeros)\n",
    "\n",
    "\n",
    "spilt = np.split(zeros,3)\n",
    "print(spilt)"
   ]
  },
  {
   "cell_type": "code",
   "execution_count": 104,
   "id": "b00dd46f",
   "metadata": {},
   "outputs": [
    {
     "name": "stdout",
     "output_type": "stream",
     "text": [
      "Vertically stacked array:\n",
      " [[1 2 3]\n",
      " [4 5 6]]\n"
     ]
    }
   ],
   "source": [
    "## 17.Stack two 1D arrays vertically.\n",
    "\n",
    "a = np.array([1, 2, 3])\n",
    "b = np.array([4, 5, 6])\n",
    "\n",
    "\n",
    "stacked = np.vstack((a, b))\n",
    "\n",
    "print(\"Vertically stacked array:\\n\", stacked)"
   ]
  },
  {
   "cell_type": "code",
   "execution_count": 105,
   "id": "c88ed6a4",
   "metadata": {},
   "outputs": [
    {
     "name": "stdout",
     "output_type": "stream",
     "text": [
      "[[17  0 10]\n",
      " [11 19 17]\n",
      " [ 4  1  5]]\n",
      "8\n"
     ]
    }
   ],
   "source": [
    "## 18. Find the number of non-zero elements in a NumPy array.\n",
    "matrix = np.random.randint(0, 20, size=(3, 3))\n",
    "print(matrix)\n",
    "\n",
    "nonzero = np.count_nonzero(matrix)\n",
    "\n",
    "print(nonzero)"
   ]
  },
  {
   "cell_type": "code",
   "execution_count": 106,
   "id": "276a6105",
   "metadata": {},
   "outputs": [
    {
     "name": "stdout",
     "output_type": "stream",
     "text": [
      "Before updating the values which is greathen 50:\n",
      " [[44 61 72 62 55]\n",
      " [41 52 87 60 73]\n",
      " [60 64 72 42 56]\n",
      " [66 40 67 74 46]\n",
      " [97 40 76 88 59]]\n",
      "After updating the values which is greathen 50:\n",
      " [[44 50 50 50 50]\n",
      " [41 50 50 50 50]\n",
      " [50 50 50 42 50]\n",
      " [50 40 50 50 46]\n",
      " [50 40 50 50 50]]\n"
     ]
    }
   ],
   "source": [
    "## 19. Create a 5x5 matrix with random integers and clip values above 50.\n",
    "\n",
    "new = np.random.randint(40,100,size=(5,5))\n",
    "print(\"Before updating the values which is greathen 50:\\n\",new)\n",
    "\n",
    "new[new > 50]=50\n",
    "print(\"After updating the values which is greathen 50:\\n\",new)"
   ]
  },
  {
   "cell_type": "code",
   "execution_count": 107,
   "id": "bf97a67c",
   "metadata": {},
   "outputs": [
    {
     "name": "stdout",
     "output_type": "stream",
     "text": [
      "We will perform the operation in the below array:\n",
      " [[10 15 22]\n",
      " [33 44 55]\n",
      " [60 71 80]\n",
      " [99 44 67]]\n",
      "\n",
      "After filtering, only odd values:\n",
      " [15, 33, 55, 71, 99, 67]\n"
     ]
    }
   ],
   "source": [
    "## 20. Create an array of 10 elements and print only the odd numbers.\n",
    "\n",
    "new = np.array([[10, 15, 22], [33, 44, 55], [60, 71, 80], [99,44,67]])\n",
    "print(\"We will perform the operation in the below array:\\n\", new)\n",
    "\n",
    "\n",
    "# Step 2: Filter odd numbers\n",
    "odd = new[new % 2 != 0].tolist()\n",
    "print(\"\\nAfter filtering, only odd values:\\n\", odd)\n"
   ]
  },
  {
   "cell_type": "code",
   "execution_count": 108,
   "id": "a00d3c2a",
   "metadata": {},
   "outputs": [
    {
     "name": "stdout",
     "output_type": "stream",
     "text": [
      "[15, 33, 55, 71, 99, 67]\n",
      "[ 15  48 103 174 273 340]\n"
     ]
    }
   ],
   "source": [
    "## 21. Find the cumulative sum of elements in a NumPy array.\n",
    "\n",
    "print(odd)\n",
    "\n",
    "cumulative = np.cumsum(odd)\n",
    "print(cumulative)\n"
   ]
  },
  {
   "cell_type": "code",
   "execution_count": 109,
   "id": "8be697f6",
   "metadata": {},
   "outputs": [
    {
     "name": "stdout",
     "output_type": "stream",
     "text": [
      "The mean of the array [30 40 50 60 70] is: 50.0\n",
      "\n",
      "[False False False  True  True]\n"
     ]
    }
   ],
   "source": [
    "## 22. Create a boolean mask for values greater than the average.\n",
    "\n",
    "arr = np.array([30, 40, 50, 60, 70])\n",
    "\n",
    "mean = np.mean(arr)\n",
    "print(f\"The mean of the array {arr} is: {mean}\\n\")\n",
    "\n",
    "mask = arr > mean\n",
    "print(mask)\n",
    "\n",
    "\n"
   ]
  },
  {
   "cell_type": "code",
   "execution_count": 110,
   "id": "d6e2d36e",
   "metadata": {},
   "outputs": [
    {
     "name": "stdout",
     "output_type": "stream",
     "text": [
      "[[0.58762472 0.66249864 0.97240824 0.27860859]\n",
      " [0.74983594 0.12102393 0.34921318 0.91601365]\n",
      " [0.60509268 0.00705975 0.00592052 0.7658718 ]\n",
      " [0.53041887 0.59433574 0.51037037 0.87070497]]\n"
     ]
    }
   ],
   "source": [
    "## 23. Generate a random float array of size 4x4 between 0 and 1.\n",
    "\n",
    "arr = np.random.rand(4,4 )\n",
    "print(arr)"
   ]
  },
  {
   "cell_type": "code",
   "execution_count": 111,
   "id": "57d10ce8",
   "metadata": {},
   "outputs": [
    {
     "name": "stdout",
     "output_type": "stream",
     "text": [
      "[[ True  True  True]\n",
      " [ True  True  True]\n",
      " [ True  True  True]]\n",
      "\n",
      " True\n"
     ]
    }
   ],
   "source": [
    "## 24. Check if two NumPy arrays are equal.\n",
    "\n",
    "arr1 = np.array([[1,2,3],\n",
    "                [4,5,6],\n",
    "                [7,8,9]])\n",
    "\n",
    "arr2 =  np.array([[1,2,3],\n",
    "                [4,5,6],\n",
    "                [7,8,9]]) \n",
    "a= np.equal(arr1,arr2)\n",
    "print(a)\n",
    "\n",
    "b = np.array_equal (arr1 , arr2)\n",
    "print(\"\\n\",b)"
   ]
  },
  {
   "cell_type": "code",
   "execution_count": 112,
   "id": "cd57a5e4",
   "metadata": {},
   "outputs": [
    {
     "name": "stdout",
     "output_type": "stream",
     "text": [
      "Array befor flatten:\n",
      "[[1 2 3]\n",
      " [4 5 6]\n",
      " [7 8 9]]\n",
      "Array After flatten:\n",
      " [1 2 3 4 5 6 7 8 9]\n"
     ]
    }
   ],
   "source": [
    "## 25. Flatten a multi-dimensional array to 1D.\n",
    "\n",
    "print(f\"Array befor flatten:\\n{arr2}\")\n",
    "print(f\"Array After flatten:\\n\",arr2.flatten())\n"
   ]
  },
  {
   "cell_type": "code",
   "execution_count": 113,
   "id": "235a4e69",
   "metadata": {},
   "outputs": [
    {
     "name": "stdout",
     "output_type": "stream",
     "text": [
      "The indices of maximum for array [1 2 3 4] is: 3\n",
      "The indices of minimum for array [1 2 3 4] is: 0\n"
     ]
    }
   ],
   "source": [
    "## 26. Get the indices of maximum and minimum values in a NumPy array.\n",
    "\n",
    "arr = np.array([1,2,3,4])\n",
    "print(f\"The indices of maximum for array {arr} is: {np.argmax(arr)}\")\n",
    "print(f\"The indices of minimum for array {arr} is: {np.argmin(arr)}\")\n"
   ]
  },
  {
   "cell_type": "code",
   "execution_count": 114,
   "id": "ca5b6b24",
   "metadata": {},
   "outputs": [
    {
     "name": "stdout",
     "output_type": "stream",
     "text": [
      "[[32 29 15 19 30 19]\n",
      " [19 32 13 10 11  4]\n",
      " [18 23 34  6 31 11]\n",
      " [12 35  4 27 21 10]\n",
      " [14  8 16 20 23 35]\n",
      " [ 1 10  6  5 35 20]]\n",
      "[[32 29 15 19 30 19 19 32 13 10 11  4]\n",
      " [18 23 34  6 31 11 12 35  4 27 21 10]\n",
      " [14  8 16 20 23 35  1 10  6  5 35 20]]\n"
     ]
    }
   ],
   "source": [
    "## 27. Generate a 6x6 matrix with values from 0 to 35 and reshape.\n",
    "\n",
    "arr = np.random.randint(0,36,size=(6,6))\n",
    "print(arr)\n",
    "\n",
    "reshape = np.reshape(arr,shape=(3,12))\n",
    "print(reshape)"
   ]
  },
  {
   "cell_type": "code",
   "execution_count": 115,
   "id": "ca5a971f",
   "metadata": {},
   "outputs": [
    {
     "name": "stdout",
     "output_type": "stream",
     "text": [
      "[[1 1 1 1 1]\n",
      " [1 1 1 1 1]\n",
      " [1 1 1 1 1]\n",
      " [1 1 1 1 1]\n",
      " [1 1 1 1 1]]\n",
      "[[1 1 1 1 1]\n",
      " [1 0 0 0 1]\n",
      " [1 0 0 0 1]\n",
      " [1 0 0 0 1]\n",
      " [1 1 1 1 1]]\n"
     ]
    }
   ],
   "source": [
    "## 28. Create a matrix with a border of 1s and 0 inside (5x5).\n",
    "\n",
    "arr = np.ones((5,5), dtype=int)\n",
    "print(arr)\n",
    "\n",
    "arr [1:-1,1:-1]=0\n",
    "print(arr)\n",
    "\n"
   ]
  },
  {
   "cell_type": "code",
   "execution_count": 116,
   "id": "ae2ddcf7",
   "metadata": {},
   "outputs": [
    {
     "name": "stdout",
     "output_type": "stream",
     "text": [
      "[ 5 10 15 20 25 30 35 40 45]\n"
     ]
    }
   ],
   "source": [
    "## 29. Use arange() to create an array from 5 to 50 with step 5.\n",
    "arr = np.arange(5,50,5)\n",
    "print(arr)\n"
   ]
  },
  {
   "cell_type": "code",
   "execution_count": 117,
   "id": "e4df2b2e",
   "metadata": {},
   "outputs": [
    {
     "name": "stdout",
     "output_type": "stream",
     "text": [
      "[2 4 5]\n"
     ]
    }
   ],
   "source": [
    "## 30 . Print only unique values from a NumPy array.\n",
    "\n",
    "arr = np.array([2,2,2,2,4,5])\n",
    "print(np.unique(arr))"
   ]
  },
  {
   "cell_type": "code",
   "execution_count": 118,
   "id": "d788719d",
   "metadata": {},
   "outputs": [
    {
     "name": "stdout",
     "output_type": "stream",
     "text": [
      "UniqueCountsResult(values=array([2, 4, 5]), counts=array([4, 1, 1]))\n"
     ]
    }
   ],
   "source": [
    "## 31. Count how many times each value appears in a NumPy array.\n",
    "\n",
    "arr = np.array([2,2,2,2,4,5])\n",
    "print(np.unique_counts(arr))"
   ]
  },
  {
   "cell_type": "code",
   "execution_count": 119,
   "id": "ad87db6a",
   "metadata": {},
   "outputs": [
    {
     "name": "stdout",
     "output_type": "stream",
     "text": [
      "[[0.73905556 0.81967124]\n",
      " [0.14037037 0.49135264]]\n",
      "[[0 0]\n",
      " [0 0]]\n"
     ]
    }
   ],
   "source": [
    "## 32. Create an array of floats and convert it to integers.\n",
    "\n",
    "arr = np.random.rand(2,2)\n",
    "print(arr)\n",
    "\n",
    "convert =  arr.astype(int)\n",
    "print(convert)"
   ]
  }
 ],
 "metadata": {
  "kernelspec": {
   "display_name": "Python (venv)",
   "language": "python",
   "name": "venv"
  },
  "language_info": {
   "codemirror_mode": {
    "name": "ipython",
    "version": 3
   },
   "file_extension": ".py",
   "mimetype": "text/x-python",
   "name": "python",
   "nbconvert_exporter": "python",
   "pygments_lexer": "ipython3",
   "version": "3.13.0"
  }
 },
 "nbformat": 4,
 "nbformat_minor": 5
}

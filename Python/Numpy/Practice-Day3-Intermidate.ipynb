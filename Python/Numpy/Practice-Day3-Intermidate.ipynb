{
 "cells": [
  {
   "cell_type": "markdown",
   "id": "e4ef75ca",
   "metadata": {},
   "source": [
    "## Practice Day 3  Intermidate Level   Date: 25-06-2025"
   ]
  },
  {
   "cell_type": "code",
   "execution_count": 12,
   "id": "d87f0429",
   "metadata": {},
   "outputs": [
    {
     "name": "stdout",
     "output_type": "stream",
     "text": [
      "Random Array is\n",
      " [[[20 22 19]\n",
      "  [20 22 24]\n",
      "  [22 20 24]]\n",
      "\n",
      " [[13 10 21]\n",
      "  [21 20 11]\n",
      "  [19 16 23]]\n",
      "\n",
      " [[14 23 16]\n",
      "  [21 11 10]\n",
      "  [18 11 22]]]\n",
      " array ends\n",
      "start [[[13 10 21]\n",
      "  [21 20 11]\n",
      "  [19 16 23]]]\n"
     ]
    }
   ],
   "source": [
    "## 1. Create a 3D NumPy array and access its middle layer.\n",
    "\n",
    "import numpy as np\n",
    "\n",
    "arr = np.random.randint(10,25, size=(3,3,3))\n",
    "print(f\"Random Array is\\n {arr}\\n array ends\")\n",
    "\n",
    "middile = arr[1:-1]\n",
    "print(\"start\",middile)\n",
    "\n"
   ]
  },
  {
   "cell_type": "code",
   "execution_count": 19,
   "id": "4e8d8faa",
   "metadata": {},
   "outputs": [
    {
     "name": "stdout",
     "output_type": "stream",
     "text": [
      "[[1]\n",
      " [2]\n",
      " [3]\n",
      " [4]]\n",
      "[[103 114 104]\n",
      " [112 110 112]\n",
      " [100 101 108]\n",
      " [106 105 106]]\n",
      "[[104 115 105]\n",
      " [114 112 114]\n",
      " [103 104 111]\n",
      " [110 109 110]]\n"
     ]
    }
   ],
   "source": [
    "## 2. Broadcast a 1D array to a 2D array and add them.\n",
    "\n",
    "arr = np.array([1,2,3,4])\n",
    "arr2 = np.random.randint(100,120, size=(4,3))\n",
    "\n",
    "\n",
    "reshaped = arr.reshape(4,1)\n",
    "print(reshaped)\n",
    "print(arr2)\n",
    "\n",
    "addition = reshaped + arr2 \n",
    "print(addition)"
   ]
  },
  {
   "cell_type": "code",
   "execution_count": 26,
   "id": "15294b57",
   "metadata": {},
   "outputs": [
    {
     "name": "stdout",
     "output_type": "stream",
     "text": [
      "Original Array: [ 1.  2. nan  4. nan]\n",
      "Filtered Array (no NaNs): [1. 2. 4.]\n"
     ]
    }
   ],
   "source": [
    "## 3. Filter out NaN values from a NumPy array.\n",
    "\n",
    "arr = np.array([1,2,np.nan,4,np.nan])\n",
    "\n",
    "filtered_arr = arr[~np.isnan(arr)]\n",
    "\n",
    "print(\"Original Array:\", arr)\n",
    "print(\"Filtered Array (no NaNs):\", filtered_arr)\n"
   ]
  },
  {
   "cell_type": "code",
   "execution_count": 31,
   "id": "f921e6dd",
   "metadata": {},
   "outputs": [
    {
     "name": "stdout",
     "output_type": "stream",
     "text": [
      "[1 2 1 4 5 6]\n"
     ]
    }
   ],
   "source": [
    "## 4. Replace elements less than 0 in an array with their absolute values.\n",
    "\n",
    "arr = np.array([1,2,-1,4,-5,-6])\n",
    "\n",
    "arr[arr < 0] = np.abs(arr[ arr< 0 ])\n",
    "\n",
    "print(arr)"
   ]
  },
  {
   "cell_type": "code",
   "execution_count": 33,
   "id": "6ea2b86f",
   "metadata": {},
   "outputs": [
    {
     "name": "stdout",
     "output_type": "stream",
     "text": [
      "83\n"
     ]
    }
   ],
   "source": [
    "# 5. Perform matrix multiplication between two arrays.\n",
    "\n",
    "arr = np.array([1,2,-1,4,-5,-6])\n",
    "arr2 = np.array([1,2,-1,4,-5,-6])\n",
    "\n",
    "mul = np.matmul(arr,arr2)\n",
    "print(mul)"
   ]
  },
  {
   "cell_type": "code",
   "execution_count": 39,
   "id": "d11f1276",
   "metadata": {},
   "outputs": [
    {
     "name": "stdout",
     "output_type": "stream",
     "text": [
      "[  3   3 -11] [  3   3 -11]\n"
     ]
    }
   ],
   "source": [
    "# 6. Find the row-wise sum of a 2D NumPy array.\n",
    "\n",
    "arr = np.array([[1,2],[-1,4],[-5,-6]])\n",
    "\n",
    "arr2 = np.array([[1,2],[-1,4],[-5,-6]])\n",
    "\n",
    "sum1 = np.sum(arr,axis=1)\n",
    "sum2= np.sum(arr2,axis=1)\n",
    "\n",
    "\n",
    "print(sum,sum2)\n",
    "\n",
    "\n",
    "\n"
   ]
  },
  {
   "cell_type": "code",
   "execution_count": 41,
   "id": "e8a4687a",
   "metadata": {},
   "outputs": [
    {
     "name": "stdout",
     "output_type": "stream",
     "text": [
      "[[4 8]\n",
      " [2 2]]\n",
      "[2 2]\n"
     ]
    }
   ],
   "source": [
    "# 7. Extract the second column from a 2D NumPy array.\n",
    "\n",
    "arr = np.random.randint (2,10,size=(2,2))\n",
    "print(arr)\n",
    "\n",
    "print(arr[-1])"
   ]
  },
  {
   "cell_type": "code",
   "execution_count": 75,
   "id": "36bff768",
   "metadata": {},
   "outputs": [
    {
     "name": "stdout",
     "output_type": "stream",
     "text": [
      "[[4 4]\n",
      " [4 2]]\n",
      "[[7 7]\n",
      " [7 7]]\n"
     ]
    }
   ],
   "source": [
    "## 8. Use `where()` to find elements that satisfy multiple conditions.\n",
    "\n",
    "arr = np.random.randint (2,10,size=(2,2))\n",
    "print(arr)\n",
    "condition = np.where (((arr > 2) & (arr <3 )), 1,7 )\n",
    "print(condition)"
   ]
  },
  {
   "cell_type": "code",
   "execution_count": 77,
   "id": "1ccb966b",
   "metadata": {},
   "outputs": [
    {
     "name": "stdout",
     "output_type": "stream",
     "text": [
      "[  1   4   2   4   7 -40   2 -28 -23  60  36]\n"
     ]
    }
   ],
   "source": [
    "## 9. Compute the moving average of a 1D NumPy array.\n",
    "\n",
    "arr = np.array([1,2,-1,4,-5,-6])\n",
    "arr2 = np.array([1,2,-1,4,-5,-6])\n",
    "\n",
    "print(np.convolve(arr,arr2))\n"
   ]
  },
  {
   "cell_type": "code",
   "execution_count": 83,
   "id": "611dcecd",
   "metadata": {},
   "outputs": [
    {
     "name": "stdout",
     "output_type": "stream",
     "text": [
      "[[0.64102564 0.97435897 0.51282051 0.64102564 0.94871795 0.58974359\n",
      "  0.         0.15384615 0.94871795 0.84615385]\n",
      " [0.46153846 0.64102564 0.79487179 0.41025641 0.38461538 0.8974359\n",
      "  0.76923077 0.53846154 0.58974359 0.79487179]\n",
      " [0.69230769 0.25641026 0.07692308 0.15384615 0.12820513 0.66666667\n",
      "  0.17948718 0.15384615 0.1025641  0.84615385]\n",
      " [0.23076923 0.84615385 1.         0.8974359  0.74358974 0.38461538\n",
      "  0.92307692 0.30769231 0.25641026 0.17948718]\n",
      " [1.         0.76923077 0.30769231 0.12820513 0.87179487 0.61538462\n",
      "  0.84615385 0.28205128 0.15384615 0.58974359]\n",
      " [0.         0.48717949 0.58974359 0.76923077 0.8974359  0.12820513\n",
      "  0.23076923 0.25641026 0.74358974 0.07692308]\n",
      " [0.38461538 0.46153846 0.66666667 0.64102564 0.53846154 0.61538462\n",
      "  0.33333333 0.61538462 0.76923077 0.53846154]\n",
      " [0.53846154 0.30769231 1.         0.58974359 0.05128205 0.94871795\n",
      "  0.92307692 0.20512821 0.12820513 0.1025641 ]\n",
      " [0.12820513 0.87179487 0.1025641  0.07692308 0.87179487 0.84615385\n",
      "  0.48717949 0.61538462 0.97435897 0.84615385]\n",
      " [0.17948718 0.38461538 0.74358974 0.8974359  0.64102564 0.71794872\n",
      "  0.         0.76923077 0.07692308 0.1025641 ]]\n"
     ]
    }
   ],
   "source": [
    "## 10. Generate a 10x10 matrix and normalize it (0 to 1).\n",
    "\n",
    "arr = np.random.randint(10,50,size=(10,10))\n",
    "\n",
    "normal = (arr - np.min(arr)) / (np.max(arr)- np.min(arr))\n",
    "\n",
    "print(normal)"
   ]
  },
  {
   "cell_type": "code",
   "execution_count": 85,
   "id": "09cfe529",
   "metadata": {},
   "outputs": [
    {
     "name": "stdout",
     "output_type": "stream",
     "text": [
      "[[40 39 47]\n",
      " [29 48 24]\n",
      " [41 45 28]]\n",
      "[2 1 1]\n",
      "[1 0 1]\n"
     ]
    }
   ],
   "source": [
    "## 11. Use `argmax()` and `argmin()` with axis parameter.\n",
    "\n",
    "arr = np.random.randint(10,50,size=(3,3))\n",
    "print(arr)\n",
    "\n",
    "print(np.argmax(arr , axis=1))\n",
    "print(np.argmin(arr , axis=0))"
   ]
  },
  {
   "cell_type": "code",
   "execution_count": 87,
   "id": "ab12ffd0",
   "metadata": {},
   "outputs": [
    {
     "name": "stdout",
     "output_type": "stream",
     "text": [
      "[[27 30 19]\n",
      " [31 20 10]\n",
      " [37 26 24]]\n",
      "[[19 27 30]\n",
      " [10 20 31]\n",
      " [24 26 37]]\n",
      "[[27 20 10]\n",
      " [31 26 19]\n",
      " [37 30 24]]\n",
      "2\n"
     ]
    }
   ],
   "source": [
    "## 12. Sort a 2D array row-wise and column-wise.\n",
    "\n",
    "arr = np.random.randint(10,50,size=(3,3))\n",
    "print(arr)\n",
    "\n",
    "print(np.sort(arr , axis=1))\n",
    "print(np.sort(arr , axis=0))\n",
    "print(np.ndim(arr))"
   ]
  },
  {
   "cell_type": "code",
   "execution_count": 93,
   "id": "ba12e9cb",
   "metadata": {},
   "outputs": [
    {
     "name": "stdout",
     "output_type": "stream",
     "text": [
      "[[25 42 15]\n",
      " [31 13 23]\n",
      " [31 20 32]]\n"
     ]
    },
    {
     "data": {
      "text/plain": [
       "[array([[25, 42, 15],\n",
       "        [31, 13, 23]], dtype=int32),\n",
       " array([[31, 20, 32]], dtype=int32)]"
      ]
     },
     "execution_count": 93,
     "metadata": {},
     "output_type": "execute_result"
    }
   ],
   "source": [
    "## 13. Split an array into uneven parts and handle the remainder.\n",
    "\n",
    "arr = np.random.randint(10,50,size=(3,3))\n",
    "print(arr)\n",
    "np.array_split(arr,2)"
   ]
  },
  {
   "cell_type": "code",
   "execution_count": null,
   "id": "e1151276",
   "metadata": {},
   "outputs": [
    {
     "name": "stdout",
     "output_type": "stream",
     "text": [
      "[83]\n"
     ]
    }
   ],
   "source": [
    "## 13. Create a correlation matrix using random data.\n",
    "arr = np.array([1,2,-1,4,-5,-6])\n",
    "arr1 = np.array([1,2,-1,4,-5,-6])\n",
    "\n",
    "print( np.correlate(arr, arr2))  ### its used for checking the correlation between 1d arrays\n",
    "\n",
    "\n",
    "### its used for checking the correlation between 2d arrays\n",
    "\n",
    "##  from scipy.signal import correlate2d\n",
    "##  correlate2d(matrix1, matrix2, mode='valid')\n"
   ]
  },
  {
   "cell_type": "code",
   "execution_count": 103,
   "id": "b1319d0a",
   "metadata": {},
   "outputs": [
    {
     "name": "stdout",
     "output_type": "stream",
     "text": [
      "['1' '2' '3' '4' '5' '6' '7' '8' '9' 'True']\n"
     ]
    }
   ],
   "source": [
    "## 14. Find all indices of a specific value in a NumPy array.\n",
    "\n",
    "a=10\n",
    "arr = np.array ([1,2,3,4,5,6,7,8,9,10])\n",
    "\n",
    "condition = np.where(arr >= a, \"True\", arr )\n",
    "print(condition)"
   ]
  },
  {
   "cell_type": "code",
   "execution_count": null,
   "id": "ec76aab5",
   "metadata": {},
   "outputs": [],
   "source": [
    "## 15. Replace all NaNs in a 2D array with the column mean.\n",
    "\n",
    "arr = np.array([[1,2],[np.nan,4]])\n",
    "\n",
    "filtered_arr = arr[~np.isnan(arr)]\n"
   ]
  }
 ],
 "metadata": {
  "kernelspec": {
   "display_name": "Python (venv)",
   "language": "python",
   "name": "venv"
  },
  "language_info": {
   "codemirror_mode": {
    "name": "ipython",
    "version": 3
   },
   "file_extension": ".py",
   "mimetype": "text/x-python",
   "name": "python",
   "nbconvert_exporter": "python",
   "pygments_lexer": "ipython3",
   "version": "3.13.0"
  }
 },
 "nbformat": 4,
 "nbformat_minor": 5
}

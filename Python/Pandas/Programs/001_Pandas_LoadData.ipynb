{
 "cells": [
  {
   "cell_type": "code",
   "execution_count": null,
   "id": "a4807afa",
   "metadata": {},
   "outputs": [],
   "source": [
    "import pandas as pd \n",
    "import openpyxl\n",
    "\n",
    "df = pd.read_csv(r'C:\\Users\\Suraj Pandey\\OneDrive\\Desktop\\Learning\\Python\\Pandas\\Excel Files\\pokemon_data.csv')\n",
    "\n",
    "df1 = pd.read_excel(r'C:\\Users\\Suraj Pandey\\OneDrive\\Desktop\\Learning\\Python\\Pandas\\Excel Files\\pokemon_data.xlsx')\n",
    "\n",
    "print(\"\\n from CSV Date  Head\\n\",  df.head(3), \"\\n,\")\n",
    "print(\"\\n  from CSV Date Tail \\n\", df.tail(3), \"\\n,\")\n",
    "\n",
    "\n",
    "print(\"\\n from xlsx Date  Head\\n\",  df1.head(3), \"\\n,\")\n",
    "print(\"\\n  from xlsx Date Tail \\n\", df1.tail(3), \"\\n,\")"
   ]
  }
 ],
 "metadata": {
  "kernelspec": {
   "display_name": "Python 3",
   "language": "python",
   "name": "python3"
  },
  "language_info": {
   "name": "python",
   "version": "3.13.0"
  }
 },
 "nbformat": 4,
 "nbformat_minor": 5
}

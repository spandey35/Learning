{
 "cells": [
  {
   "cell_type": "markdown",
   "id": "d6e32e33",
   "metadata": {},
   "source": [
    "# Date: 02-07-2025"
   ]
  },
  {
   "cell_type": "code",
   "execution_count": null,
   "id": "9e7fc5d3",
   "metadata": {},
   "outputs": [],
   "source": [
    "import pandas as pd\n",
    "import openpyxl\n",
    "\n",
    "df = pd.read_csv(r'C:\\Users\\Suraj Pandey\\OneDrive\\Desktop\\Learning\\Python\\Pandas\\Excel Files\\pokemon_data.csv')\n",
    "\n",
    "df1 = pd.read_excel(r'C:\\Users\\Suraj Pandey\\OneDrive\\Desktop\\Learning\\Python\\Pandas\\Excel Files\\pokemon_data.xlsx')\n",
    "\n",
    "\n",
    "print(\"## Read Heade\\n\",df.columns,\"\\n\") \n",
    "print(\" ## Read each columns\\n\",df[[\"Name\", \"Type 1\"]],\"\\n\")  \n",
    "print(\"## Read each rows\\n\",df.iloc[1],\"\\n\")  \n",
    "\n",
    "#for index , rows in df.iterrows():\n",
    "#   print(index,rows)\n",
    "\n",
    "print(\"## Read multiple each rows\\n\",df.iloc[1:4],\"\\n\")  \n",
    "print(\"Read a specific location\\n\",df.iloc[2,1],\"\\n\") \n",
    "\n",
    "print(\"Read for where location\\n\",df.loc[df[\"Type 1\"]==\"Grass\"],\"\\n\") "
   ]
  }
 ],
 "metadata": {
  "kernelspec": {
   "display_name": "Python 3",
   "language": "python",
   "name": "python3"
  },
  "language_info": {
   "codemirror_mode": {
    "name": "ipython",
    "version": 3
   },
   "file_extension": ".py",
   "mimetype": "text/x-python",
   "name": "python",
   "nbconvert_exporter": "python",
   "pygments_lexer": "ipython3",
   "version": "3.13.0"
  }
 },
 "nbformat": 4,
 "nbformat_minor": 5
}
